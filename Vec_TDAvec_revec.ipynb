{
 "cells": [
  {
   "cell_type": "markdown",
   "metadata": {},
   "source": [
    "# 穴の種類を限定"
   ]
  },
  {
   "cell_type": "markdown",
   "metadata": {},
   "source": [
    "---\n",
    "  \n",
    "引数：TDAでベクトル化した(全ての穴の種類をベクトルとして含んだもの)csvファイルがあるディレクトリまでのパス  \n",
    "  \n",
    "---\n",
    "  \n",
    "入力：TDAでベクトル化したcsvファイル\n",
    "\n",
    "---\n",
    "  \n",
    "出力：  \n",
    "* TDAvec_autocor_tap_(パラメータ).csv\n",
    "* TDAvec_autocor_rest_(パラメータ).csv\n",
    "\n",
    "---  \n",
    "\n",
    "0-dim，1-dim，2-dimの穴の情報を含んだベクトルデータにおいて，穴の種類を選択しベクトル化し直す．\n"
   ]
  },
  {
   "cell_type": "code",
   "execution_count": 8,
   "metadata": {
    "collapsed": true
   },
   "outputs": [],
   "source": [
    "import numpy as np\n",
    "import pandas as pd\n",
    "import sys"
   ]
  },
  {
   "cell_type": "markdown",
   "metadata": {},
   "source": [
    "コマンドライン引数で提案手法でベクトル化したcsvファイルがあるディレクトリまでのパスを取得"
   ]
  },
  {
   "cell_type": "code",
   "execution_count": 9,
   "metadata": {
    "collapsed": true
   },
   "outputs": [],
   "source": [
    "#args = sys.argv\n",
    "#PATH = args[1]\n",
    "\n",
    "# jupyter notebookのときはここで指定\n",
    "PATH = '../State-2fe_Active/20181029rn/64ch/RawData/'\n",
    "\n",
    "# ベクトル化する際の手法\n",
    "PM = 'TDAvec_autocor'\n",
    "\n",
    "# ベクトル化された際のきざみ時間\n",
    "kizamiNum = [100, 300]"
   ]
  },
  {
   "cell_type": "code",
   "execution_count": 10,
   "metadata": {
    "collapsed": true
   },
   "outputs": [],
   "source": [
    "\n",
    "# ベクトル化する穴の種類\n",
    "# 使わないもの（使う穴が2つの場合）\n",
    "NotHole = 2\n",
    "# or\n",
    "# 使うもの（使う穴が1つの場合）\n",
    "UseHole = 10\n",
    "# を設定する．設定しない場合は10とかにする\n"
   ]
  },
  {
   "cell_type": "markdown",
   "metadata": {},
   "source": [
    "## ReVec関数"
   ]
  },
  {
   "cell_type": "markdown",
   "metadata": {},
   "source": [
    "引数として読み込みたいファイル名をfileで受け取る．  \n",
    "条件に応じて再ベクトル化する（reVec）．  \n",
    "出力ファイル用に条件を含んだファイルの名前を作成しておく（parameters）．  \n",
    "reVec，parametersを返す．"
   ]
  },
  {
   "cell_type": "code",
   "execution_count": 11,
   "metadata": {
    "collapsed": true
   },
   "outputs": [],
   "source": [
    "def ReVec(file, kizamiNum):\n",
    "    \n",
    "    # 読み込みたいファイルのパス\n",
    "    PATH_file = PATH + file\n",
    "    \n",
    "    # csvファイル読み込み\n",
    "    data = pd.read_csv(PATH_file, header = 0)\n",
    "    \n",
    "    # 条件に応じた穴の種類のベクトル抽出，出力ファイル用の名前作成\n",
    "    if (NotHole == 0 and UseHole == 10) :\n",
    "\n",
    "        reVec = data.iloc[:, kizamiNum:kizamiNum*3]\n",
    "        \n",
    "        parameters = '12dim' + str(kizamiNum)\n",
    "\n",
    "    elif (NotHole == 1 and UseHole == 10) :\n",
    "\n",
    "        reVec1 = data.iloc[:, 0:kizamiNum]\n",
    "        reVec2 = data.iloc[:, kizamiNum*2:kizamiNum*3]\n",
    "        reVec = pd.concat([reVec1, reVec2], axis = 1)\n",
    "        \n",
    "        parameters = '02dim' + str(kizamiNum)\n",
    "\n",
    "    elif (NotHole == 2 and UseHole == 10) :\n",
    "\n",
    "        reVec = data.iloc[:, 0:kizamiNum*2]\n",
    "        \n",
    "        parameters = '01dim' + str(kizamiNum)\n",
    "\n",
    "    elif (UseHole == 0 and NotHole == 10) :  \n",
    "\n",
    "        reVec = data.iloc[:, 0:kizamiNum]\n",
    "        \n",
    "        parameters = '0dim' + str(kizamiNum)\n",
    "\n",
    "    elif (UseHole == 1 and NotHole == 10) :\n",
    "\n",
    "        reVec = data.iloc[:, kizamiNum:kizamiNum*2]\n",
    "        \n",
    "        parameters = '1dim' + str(kizamiNum)\n",
    "\n",
    "    elif (UseHole == 2 and NotHole == 10) :\n",
    "\n",
    "        reVec = data.iloc[:, kizamiNum*2:kizamiNum*3]\n",
    "        parameters = '2dim' + str(kizamiNum)\n",
    "\n",
    "    return reVec, parameters\n"
   ]
  },
  {
   "cell_type": "markdown",
   "metadata": {},
   "source": [
    "## main関数"
   ]
  },
  {
   "cell_type": "code",
   "execution_count": 12,
   "metadata": {},
   "outputs": [
    {
     "name": "stdout",
     "output_type": "stream",
     "text": [
      "../State-2fe_Active/20181029rn/64ch/RawData/TDAvec_autocor_rest_01dim100.csv\n",
      "../State-2fe_Active/20181029rn/64ch/RawData/TDAvec_autocor_tapping_01dim100.csv\n",
      "../State-2fe_Active/20181029rn/64ch/RawData/TDAvec_autocor_rest_01dim300.csv\n",
      "../State-2fe_Active/20181029rn/64ch/RawData/TDAvec_autocor_tapping_01dim300.csv\n"
     ]
    }
   ],
   "source": [
    "if __name__ == '__main__':\n",
    "    \n",
    "    for kizami in range(len(kizamiNum)):\n",
    "        \n",
    "        # ベクトル化し直すデータ\n",
    "        ReVec_restData = 'TDAvec_autocor_rest_012dim' + str(kizamiNum[kizami]) + '.csv'\n",
    "        ReVec_tappingData = 'TDAvec_autocor_tapping_012dim' + str(kizamiNum[kizami]) + '.csv'\n",
    "\n",
    "        restReVec, paraName = ReVec(ReVec_restData, kizamiNum[kizami])\n",
    "        tappingReVec, paraName = ReVec(ReVec_tappingData, kizamiNum[kizami])\n",
    "\n",
    "        # csv書き出し\n",
    "        PATH_restReVec = PATH + PM + '_rest_' + paraName + '.csv'\n",
    "        restReVec.to_csv(PATH_restReVec, index = False, header = True)\n",
    "        print(PATH_restReVec)\n",
    "\n",
    "        PATH_tappingReVec = PATH + PM + '_tapping_' + paraName + '.csv'\n",
    "        tappingReVec.to_csv(PATH_tappingReVec, index = False, header = True)\n",
    "        print(PATH_tappingReVec)\n",
    "        "
   ]
  },
  {
   "cell_type": "code",
   "execution_count": null,
   "metadata": {
    "collapsed": true
   },
   "outputs": [],
   "source": []
  },
  {
   "cell_type": "code",
   "execution_count": null,
   "metadata": {
    "collapsed": true
   },
   "outputs": [],
   "source": []
  }
 ],
 "metadata": {
  "kernelspec": {
   "display_name": "Python 3",
   "language": "python",
   "name": "python3"
  },
  "language_info": {
   "codemirror_mode": {
    "name": "ipython",
    "version": 3
   },
   "file_extension": ".py",
   "mimetype": "text/x-python",
   "name": "python",
   "nbconvert_exporter": "python",
   "pygments_lexer": "ipython3",
   "version": "3.6.1"
  }
 },
 "nbformat": 4,
 "nbformat_minor": 2
}
