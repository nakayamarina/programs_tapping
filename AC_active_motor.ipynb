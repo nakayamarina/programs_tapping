{
 "cells": [
  {
   "cell_type": "markdown",
   "metadata": {},
   "source": [
    "## 識別まとめ用：ActiveとMotorの従来+TimeSeriese+TDA比較"
   ]
  },
  {
   "cell_type": "markdown",
   "metadata": {},
   "source": [
    "各被験者ごとにActiveとMotorをまとめたpng  \n",
    "* ACCURACY\\_(被験者名)_(チャンネル数).png  \n",
    "  \n",
    "全被験者のActiveとMotorの平均をまとめたpng\n",
    "* ACCURACY\\_mean_(チャンネル数).png "
   ]
  },
  {
   "cell_type": "code",
   "execution_count": 18,
   "metadata": {
    "collapsed": true
   },
   "outputs": [],
   "source": [
    "import numpy as np\n",
    "import pandas as pd\n",
    "import sys\n",
    "import os\n",
    "\n",
    "# .pyで実行するときは%matplotlib inlineをコメントアウト！！！！\n",
    "import matplotlib.pyplot as plt\n",
    "%matplotlib inline"
   ]
  },
  {
   "cell_type": "code",
   "execution_count": 19,
   "metadata": {
    "collapsed": true
   },
   "outputs": [],
   "source": [
    "#args = sys.argv\n",
    "#PATH = args[1]\n",
    "\n",
    "# jupyter notebookのときはここで指定\n",
    "PATH = '../State-2fe_Active/'\n",
    "\n",
    "PATH_a = '../State-2fe_Active/Result1110method/'\n",
    "PATH_m = '../State-2fe_Motor/Result1110method/'\n",
    "\n",
    "all_sub = 'ACCURACY_allsub.csv'\n",
    "mean_sub = 'ACCURACY_meansub.csv'\n",
    "\n",
    "# ------- 書き換え ------- #\n",
    "\n",
    "resultName = 'Result1111AvsM'\n",
    "\n",
    "# ----------------------- #\n",
    "\n",
    "# Result[日付]のディレクトリ名・パス\n",
    "DIR_result = PATH + resultName\n",
    "PATH_result = DIR_result + '/'\n",
    "\n",
    "# すでに存在する場合は何もせず，存在していない場合はディレクトリ作成\n",
    "if not os.path.exists(DIR_result):\n",
    "    os.mkdir(DIR_result) \n",
    "    \n",
    "vox_index = ['ActiveVoxel', 'MotorVoxel']\n",
    "sub = ['20181029rn', '20181029su', '20181029tm']"
   ]
  },
  {
   "cell_type": "code",
   "execution_count": 27,
   "metadata": {
    "collapsed": true
   },
   "outputs": [],
   "source": [
    "def AcBar(ac_plt, name):\n",
    "\n",
    "    plt.figure()\n",
    "\n",
    "    ac_plt.plot.bar(color = ['darkblue', 'lightsteelblue', 'darkred', 'firebrick', 'crimson', 'red', 'palevioletred', 'salmon', 'lightsalmon', 'peachpuff'],\n",
    "               width = 0.8, figsize = (16,9), rot = 0, fontsize = 15, legend='reverse',\n",
    "               yticks = [10,20,30,40,50,60,70,80,90,100])\n",
    "\n",
    "    PATH_plt = PATH + PATH_result + 'ACCURACY_' + name + '.png'\n",
    "    print(PATH_plt)\n",
    "    plt.savefig(PATH_plt)\n",
    "    \n",
    "    plt.close('all')\n",
    "\n"
   ]
  },
  {
   "cell_type": "code",
   "execution_count": 28,
   "metadata": {},
   "outputs": [
    {
     "name": "stdout",
     "output_type": "stream",
     "text": [
      "../State-2fe_Active/../State-2fe_Active/Result1111AvsM/ACCURACY_20181029rn_64ch.png\n",
      "../State-2fe_Active/../State-2fe_Active/Result1111AvsM/ACCURACY_20181029su_64ch.png\n",
      "../State-2fe_Active/../State-2fe_Active/Result1111AvsM/ACCURACY_20181029tm_64ch.png\n",
      "../State-2fe_Active/../State-2fe_Active/Result1111AvsM/ACCURACY_20181029rn_mb.png\n",
      "../State-2fe_Active/../State-2fe_Active/Result1111AvsM/ACCURACY_20181029su_mb.png\n",
      "../State-2fe_Active/../State-2fe_Active/Result1111AvsM/ACCURACY_20181029tm_mb.png\n"
     ]
    }
   ],
   "source": [
    "########## 各被験者ごとにactiveとmotorを比較 ###########\n",
    "\n",
    "active_all = pd.read_csv(PATH_a + all_sub, index_col = 0)\n",
    "motor_all = pd.read_csv(PATH_m + all_sub, index_col = 0)\n",
    "\n",
    "active_64 = active_all.loc['64ch head coil(64ch)', :]\n",
    "active_mb = active_all.loc['64ch head coil multi-band(64chMB)', :]\n",
    "\n",
    "motor_64 = motor_all.loc['64ch head coil(64ch)', :]\n",
    "motor_mb = motor_all.loc['64ch head coil multi-band(64chMB)', :]\n",
    "\n",
    "for i in range(len(active_64)):\n",
    "    \n",
    "    active = pd.DataFrame(active_64.iloc[i, :]).T\n",
    "    active.index = [vox_index[0]]\n",
    "    \n",
    "    motor = pd.DataFrame(motor_64.iloc[i, :]).T\n",
    "    motor.index = [vox_index[1]]\n",
    "    \n",
    "    cmp = pd.concat([active, motor])\n",
    "    \n",
    "    name = sub[i] + '_64ch'\n",
    "    \n",
    "    AcBar(cmp, name)\n",
    "    \n",
    "for i in range(len(active_mb)):\n",
    "    \n",
    "    active = pd.DataFrame(active_mb.iloc[i, :]).T\n",
    "    active.index = [vox_index[0]]\n",
    "    \n",
    "    motor = pd.DataFrame(motor_mb.iloc[i, :]).T\n",
    "    motor.index = [vox_index[1]]\n",
    "    \n",
    "    cmp = pd.concat([active, motor])\n",
    "    \n",
    "    name = sub[i] + '_mb'\n",
    "    \n",
    "    AcBar(cmp, name)\n",
    "    \n",
    "    \n"
   ]
  },
  {
   "cell_type": "code",
   "execution_count": 29,
   "metadata": {},
   "outputs": [
    {
     "name": "stdout",
     "output_type": "stream",
     "text": [
      "../State-2fe_Active/../State-2fe_Active/Result1111AvsM/ACCURACY_mean_64ch.png\n",
      "../State-2fe_Active/../State-2fe_Active/Result1111AvsM/ACCURACY_mean_mb.png\n"
     ]
    }
   ],
   "source": [
    "########## 全被験者のactiveとmotorの平均を比較 ###########\n",
    "\n",
    "active_all = pd.read_csv(PATH_a + mean_sub, index_col = 0)\n",
    "motor_all = pd.read_csv(PATH_m + mean_sub, index_col = 0)\n",
    "\n",
    "active_64 = pd.DataFrame(active_all.loc['64ch head coil(64ch)', :]).T\n",
    "motor_64 = pd.DataFrame(motor_all.loc['64ch head coil(64ch)', :]).T\n",
    "cmp_64 = pd.concat([active_64, motor_64])\n",
    "cmp_64.index = vox_index\n",
    "\n",
    "name_64 = 'mean_64ch'\n",
    "\n",
    "AcBar(cmp_64, name_64)\n",
    "\n",
    "\n",
    "active_mb = pd.DataFrame(active_all.loc['64ch head coil multi-band(64chMB)', :]).T\n",
    "motor_mb = pd.DataFrame(motor_all.loc['64ch head coil multi-band(64chMB)', :]).T\n",
    "cmp_mb = pd.concat([active_mb, motor_mb])\n",
    "cmp_mb.index = vox_index\n",
    "\n",
    "name_mb = 'mean_mb'\n",
    "\n",
    "AcBar(cmp_mb, name_mb)\n",
    "\n"
   ]
  },
  {
   "cell_type": "code",
   "execution_count": 30,
   "metadata": {},
   "outputs": [
    {
     "name": "stdout",
     "output_type": "stream",
     "text": [
      "../State-2fe_Active/../State-2fe_Active/Result1111AvsM/ACCURACY_mean.png\n"
     ]
    }
   ],
   "source": [
    "########## 全被験者，全チャンネルのActiveとmotorの平均を比較 ##########\n",
    "\n",
    "all_ch = pd.concat([cmp_64, cmp_mb])\n",
    "\n",
    "all_ch.index = ['64ch / ActiveVoxel', '64ch / MotorVoxel', 'multi-band / ActiveVoxel', 'multi-band / MotorVoxel']\n",
    "\n",
    "name_mean = 'mean'\n",
    "\n",
    "AcBar(all_ch, name_mean)"
   ]
  },
  {
   "cell_type": "code",
   "execution_count": null,
   "metadata": {
    "collapsed": true
   },
   "outputs": [],
   "source": []
  },
  {
   "cell_type": "code",
   "execution_count": 26,
   "metadata": {},
   "outputs": [
    {
     "data": {
      "text/plain": [
       "<matplotlib.axes._subplots.AxesSubplot at 0x11fee8208>"
      ]
     },
     "execution_count": 26,
     "metadata": {},
     "output_type": "execute_result"
    },
    {
     "data": {
      "text/plain": [
       "<matplotlib.figure.Figure at 0x12044c6d8>"
      ]
     },
     "metadata": {},
     "output_type": "display_data"
    },
    {
     "data": {
      "image/png": "[encoded data removed]",
      "text/plain": [
       "<matplotlib.figure.Figure at 0x1202ab080>"
      ]
     },
     "metadata": {},
     "output_type": "display_data"
    }
   ],
   "source": [
    "plt.figure()\n",
    "\n",
    "cmp_64.plot.bar(color = ['darkblue', 'lightsteelblue', 'darkred', 'firebrick', 'crimson', 'red', 'palevioletred', 'salmon', 'lightsalmon', 'peachpuff'],\n",
    "           width = 0.8, figsize = (16,9), rot = 0, fontsize = 15, legend='reverse',\n",
    "           yticks = [10,20,30,40,50,60,70,80,90,100])"
   ]
  },
  {
   "cell_type": "code",
   "execution_count": null,
   "metadata": {
    "collapsed": true
   },
   "outputs": [],
   "source": []
  }
 ],
 "metadata": {
  "kernelspec": {
   "display_name": "Python 3",
   "language": "python",
   "name": "python3"
  },
  "language_info": {
   "codemirror_mode": {
    "name": "ipython",
    "version": 3
   },
   "file_extension": ".py",
   "mimetype": "text/x-python",
   "name": "python",
   "nbconvert_exporter": "python",
   "pygments_lexer": "ipython3",
   "version": "3.6.1"
  }
 },
 "nbformat": 4,
 "nbformat_minor": 2
}
