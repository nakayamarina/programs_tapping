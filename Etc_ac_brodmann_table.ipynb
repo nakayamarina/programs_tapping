{
 "cells": [
  {
   "cell_type": "markdown",
   "metadata": {},
   "source": [
    "# 識別率の高いボクセルのブロードマンエリア特定"
   ]
  },
  {
   "cell_type": "markdown",
   "metadata": {},
   "source": [
    "----  \n",
    "  \n",
    "引数：各被験者のディレクトリまでのパス  \n",
    "  \n",
    "---  \n",
    "  \n",
    "入力：識別率一覧 ACCURACY[loo]_Voxtimseries30_SVM.csv / ボクセル-ブロードマンエリア対応表 Voxel_Brodmann_Table.csv  \n",
    "   \n",
    "---\n",
    "  \n",
    "出力：Accuracy_Brodmann_Table.csv \n",
    "  \n",
    "---  \n",
    "  \n",
    "各ボクセルがどのブロードマンエリアであるかを特定，識別率が高い順に並べ替える．  "
   ]
  },
  {
   "cell_type": "code",
   "execution_count": 58,
   "metadata": {
    "collapsed": true
   },
   "outputs": [],
   "source": [
    "from os.path import join as pathjoin\n",
    "from pprint import pprint\n",
    "# from nifti import NiftiImage\n",
    "import glob\n",
    "import numpy as np\n",
    "import pandas as pd\n",
    "import sys\n",
    "import pickle\n",
    "# import dill\n",
    "import csv"
   ]
  },
  {
   "cell_type": "code",
   "execution_count": 79,
   "metadata": {},
   "outputs": [],
   "source": [
    "# args = sys.argv\n",
    "# PATH = args[1]\n",
    "\n",
    "#jupyter notebookのときはここで指定\n",
    "PATH = '../State-2fe_MaskBrodmann/'\n",
    "\n",
    "Subject = ['20181029rn', '20181029su', '20181029tm']\n",
    "\n",
    "PATH_raw = []\n",
    "\n",
    "# 各被験者ごとのRawDataディレクトリまでのパス\n",
    "for subName in Subject:\n",
    "    \n",
    "    PATH_raw = PATH_raw + [PATH + subName + '/mb/RawData/']\n"
   ]
  },
  {
   "cell_type": "code",
   "execution_count": 81,
   "metadata": {},
   "outputs": [
    {
     "name": "stdout",
     "output_type": "stream",
     "text": [
      "../State-2fe_MaskBrodmann/20181029rn/mb/RawData/\n",
      "../State-2fe_MaskBrodmann/20181029rn/mb/RawData/AcVoxelBrodmannTable.csv\n",
      "../State-2fe_MaskBrodmann/20181029su/mb/RawData/\n",
      "../State-2fe_MaskBrodmann/20181029su/mb/RawData/AcVoxelBrodmannTable.csv\n",
      "../State-2fe_MaskBrodmann/20181029tm/mb/RawData/\n",
      "../State-2fe_MaskBrodmann/20181029tm/mb/RawData/AcVoxelBrodmannTable.csv\n"
     ]
    }
   ],
   "source": [
    "\n",
    "for sub in PATH_raw:\n",
    "    print(sub)\n",
    "    \n",
    "    # 識別率一覧を記録したcsvファイルへのパス\n",
    "    PATH_ac = []\n",
    "\n",
    "    for name in glob.glob(sub + 'ACMID*'):\n",
    "        PATH_ac = PATH_ac + [name]\n",
    "\n",
    "    # ボクセル-ブロードマンエリア対応表を記録したファイルへのパス\n",
    "    PATH_tab = sub + 'VoxelBrodmannTable.csv'\n",
    "\n",
    "    # 識別率一覧を読み込み\n",
    "\n",
    "    ac = pd.DataFrame(index = [], columns = [])\n",
    "\n",
    "    for file in PATH_ac:\n",
    "\n",
    "        acmid = pd.read_csv(file, header = 0)\n",
    "        ac = pd.concat([ac, acmid])\n",
    "\n",
    "    ac.columns = ['BAvoxelNum', 'accuracy(%)']\n",
    "\n",
    "    # ボクセル-ブロードマンエリア対応表を読み込み\n",
    "    tab = pd.read_csv(PATH_tab, header = 0)\n",
    "\n",
    "    # acとtabをマージすることで各ボクセルのブロードマンエリアを特定\n",
    "    AcTab = pd.merge(ac, tab, on = ['BAvoxelNum'], how = 'left')\n",
    "\n",
    "    # BAvoxelNumとaccuracyを行名に設定することで(MultiIndex)重複を分かりやすくする\n",
    "    # (一つのボクセルに対して複数のブロードマンエリアが対応していることがある）\n",
    "    AcTab = AcTab.set_index(['BAvoxelNum', 'accuracy(%)'])\n",
    "\n",
    "    # accuracyでソートすることで識別率の高い順に並べる\n",
    "    # (MultiIndexの時は)levelでどのインデックスでソートするか指定，ascending = Falseとすることで昇順に\n",
    "    AcTab = AcTab.sort_index(level = 'accuracy(%)', ascending = False)\n",
    "    \n",
    "    PATH_csv = sub + 'AcVoxelBrodmannTable.csv'\n",
    "    print(PATH_csv)\n",
    "    AcTab.to_csv(PATH_csv)"
   ]
  },
  {
   "cell_type": "code",
   "execution_count": null,
   "metadata": {
    "collapsed": true
   },
   "outputs": [],
   "source": [
    "ri"
   ]
  }
 ],
 "metadata": {
  "kernelspec": {
   "display_name": "Python 3",
   "language": "python",
   "name": "python3"
  }
 },
 "nbformat": 4,
 "nbformat_minor": 2
}
