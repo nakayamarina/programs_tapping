{
 "cells": [
  {
   "cell_type": "markdown",
   "metadata": {},
   "source": [
    "# ボクセル番号とブロードマンエリア対応表"
   ]
  },
  {
   "cell_type": "markdown",
   "metadata": {
    "collapsed": true
   },
   "source": [
    "----  \n",
    "  \n",
    "引数：4D化した.niiファイルがあるフォルダまでのパス / 書き出すcsvの保存先  \n",
    "  \n",
    "---  \n",
    "  \n",
    "入力：4D化した.niiファイルがあるフォルダまでのパス / 書き出すcsvの保存先 / 各種mask.nii（chunks_list.csv, targets_list.csv）  \n",
    "   \n",
    "---\n",
    "  \n",
    "出力：Table_voxel-brodmann.csv（chunks_list.csv, targets_list.csv）  \n",
    "  \n",
    "---  \n",
    "  \n",
    "ボクセル番号からブロードマンエリアを特定するための対応表を作る．  \n",
    "そのためには，被験者の脳データの4D.nii，全ブロードマンエリアのマスク，各ブロードマンエリアのマスクを作っておく必要がある．  \n",
    "詳しくはPreprocessing_nii2zscore.py参照．"
   ]
  },
  {
   "cell_type": "code",
   "execution_count": 363,
   "metadata": {},
   "outputs": [],
   "source": [
    "from mvpa2.suite import *\n",
    "from mvpa2.datasets.mri import fmri_dataset\n",
    "import os\n",
    "import os.path\n",
    "from os.path import join as pathjoin\n",
    "from pprint import pprint\n",
    "# from nifti import NiftiImage\n",
    "import glob\n",
    "import numpy as np\n",
    "import pandas as pd\n",
    "import sys\n",
    "import pickle\n",
    "# import dill\n",
    "import csv\n",
    "\n",
    "import nibabel as nib"
   ]
  },
  {
   "cell_type": "code",
   "execution_count": 379,
   "metadata": {},
   "outputs": [],
   "source": [
    "# args = sys.argv\n",
    "# PATH = args[1]\n",
    "# PATH_save = args[2]\n",
    "\n",
    "#jupyter notebookのときはここで指定\n",
    "PATH = '../../Data_mri/tappingState-2fe/20181029rn/mb/'\n",
    "PATH_save = '../State-2fe_MaskMotor/20181029rn/mb/'\n",
    "\n",
    "# 前処理済みならswrがついた.niiファイルを選択\n",
    "PATH_nii = PATH + '4D.nii'\n",
    "\n",
    "# マスクの種類数：全ブロードマンエリア + 各ブロードマンエリア（75種）= 76\n",
    "maskNum = 76\n",
    "\n",
    "# マスク名のリストとブロードマンエリア名のリスト作成\n",
    "mask_list = []\n",
    "ba_list = []\n",
    "\n",
    "for i in range(maskNum):\n",
    "\n",
    "    mask_list = mask_list + [PATH + 'rwmask' + str(i) + '.nii']\n",
    "    ba_list = ba_list + ['BrodmannArea' + str(i)]\n",
    "    \n",
    "mask_list[0] = PATH + 'rwmaskBA.nii'\n",
    "\n",
    "# ブロードマンエリア1-47の他に名前のついた部位があるのでその名前をつける\n",
    "etc_area = ['Amygdala', 'AnteriorCommissure', 'CaudateBody', 'CaudateHead',\n",
    "            'CaudateTail', 'CorpusCallsum', 'Dentate', 'Hippocampus', 'Hypothalamus',\n",
    "            'LateralDorsalNucleus', 'LateralGeniculumBody', 'LateralGlobusPallidus',\n",
    "            'LateralPosteriorNuckleus', 'MammillaryBody', 'MedialDorsalNucleus', 'OpticTract',\n",
    "            'MedialGeniculumBody', 'MedialGlobusPallidus', 'MidlineNucleus',\n",
    "            'Pulvinar', 'Putamen', 'RedNucleus', 'SubstaniaNigra', 'SubthalamicNucleus',\n",
    "            'VentralAnteriorNucleus', 'VentralLateralNucleus',\n",
    "            'VentralPosteriorLateralNucleus', 'VentralPosteriorMediaNucleus']\n",
    "\n",
    "ba_list[0] = 'BrodmannAreaAll'\n",
    "ba_list[48:maskNum] = etc_area"
   ]
  },
  {
   "cell_type": "code",
   "execution_count": 380,
   "metadata": {
    "collapsed": true
   },
   "outputs": [],
   "source": [
    "headcoil = PATH.split('/')[5]\n",
    "\n",
    "if headcoil == 'mb':\n",
    "\n",
    "    # 総スキャン数\n",
    "    scan_num = 592\n",
    "\n",
    "    # 1タスクのスキャン数\n",
    "    taskNum = 296\n",
    "\n",
    "elif headcoil == '64ch':\n",
    "\n",
    "    # 総スキャン数\n",
    "    scan_num = 192\n",
    "\n",
    "    # 1タスクのスキャン数\n",
    "    taskNum = 96"
   ]
  },
  {
   "cell_type": "code",
   "execution_count": 381,
   "metadata": {
    "collapsed": true
   },
   "outputs": [],
   "source": [
    "# RawDataのディレクトリ名・パス\n",
    "DIR_RAW = PATH_save + 'RawData'\n",
    "PATH_RAW = DIR_RAW + '/'\n",
    "\n",
    "# すでに存在する場合は何もせず，存在していない場合はディレクトリ作成\n",
    "if not os.path.exists(DIR_RAW):\n",
    "    os.mkdir(DIR_RAW)"
   ]
  },
  {
   "cell_type": "code",
   "execution_count": 382,
   "metadata": {},
   "outputs": [],
   "source": [
    "mask_list = [PATH + 'rwmaskBA.nii', PATH + 'rwmask12346.nii']\n",
    "ba_list = ['BrodmannAreaAll', 'MotorArea']"
   ]
  },
  {
   "cell_type": "markdown",
   "metadata": {},
   "source": [
    "# CorrespondenceTable関数"
   ]
  },
  {
   "cell_type": "code",
   "execution_count": 383,
   "metadata": {},
   "outputs": [],
   "source": [
    "def CorrespondenceTable(target, chunk, mask):\n",
    "\n",
    "    # データセットの整形\n",
    "\n",
    "    dataset = fmri_dataset(nifti, targets=target, chunks=chunk, mask=mask ,sprefix='voxel', tprefix='time', add_fa=None)\n",
    "\n",
    "    print('dataset ready')\n",
    "\n",
    "    poly_detrend(dataset, polyord=1, chunks_attr='chunks')\n",
    "\n",
    "    dataset = dataset[np.array([l in ['1']\n",
    "                               for l in dataset.targets], dtype='bool')]\n",
    "    \n",
    "    # ボクセル数を取得し，ボクセル名作成\n",
    "    voxNum = dataset.shape[1]\n",
    "    \n",
    "    VoxName = []\n",
    "    \n",
    "    for i in range(voxNum):\n",
    "        \n",
    "        name = 'Voxel' + str(i+1)\n",
    "        VoxName.append(name)\n",
    "    \n",
    "    \n",
    "    # ボクセル位置(x, y, z)を取得\n",
    "    voxPosition = dataset.fa.values()\n",
    "    voxPosition = list(voxPosition)[0][:]\n",
    "    voxPosition = pd.DataFrame(voxPosition, columns = ['x', 'y', 'z'], index = VoxName)\n",
    "    \n",
    "    return voxPosition"
   ]
  },
  {
   "cell_type": "markdown",
   "metadata": {},
   "source": [
    "# Main関数"
   ]
  },
  {
   "cell_type": "code",
   "execution_count": 384,
   "metadata": {
    "collapsed": true
   },
   "outputs": [],
   "source": [
    "if __name__ == '__main__':\n",
    "\n",
    "    # 4D化した.niiファイル名リストを作成\n",
    "\n",
    "    nifti = [PATH_nii]"
   ]
  },
  {
   "cell_type": "code",
   "execution_count": 385,
   "metadata": {},
   "outputs": [
    {
     "name": "stdout",
     "output_type": "stream",
     "text": [
      "target\n"
     ]
    },
    {
     "name": "stderr",
     "output_type": "stream",
     "text": [
      "/Users/nakayamarina/.pyenv/versions/anaconda3-4.4.0/lib/python3.6/site-packages/ipykernel_launcher.py:17: DeprecationWarning: 'U' mode is deprecated\n"
     ]
    }
   ],
   "source": [
    "    # 教師データの作成（この作業なしにやる方法がわからないので，必要のない作業ではあるがやる）\n",
    "\n",
    "    task = ['0'] * taskNum\n",
    "    task2 = ['1'] * taskNum\n",
    "\n",
    "    task.extend(task2)\n",
    "    target = pd.DataFrame(task)\n",
    "\n",
    "    target = pd.DataFrame(task)\n",
    "\n",
    "    PATH_target = PATH + 'targets_list.csv'\n",
    "    target.to_csv(PATH_target, index = False, header = None)\n",
    "    print('target')\n",
    "\n",
    "    targets_list = []\n",
    "\n",
    "    targets_file = open(PATH_target, 'rU')\n",
    "    dataReader = csv.reader(targets_file)\n",
    "\n",
    "    for row in dataReader:\n",
    "        targets_list.append(row[0])"
   ]
  },
  {
   "cell_type": "code",
   "execution_count": 386,
   "metadata": {},
   "outputs": [
    {
     "name": "stdout",
     "output_type": "stream",
     "text": [
      "chunks\n"
     ]
    },
    {
     "name": "stderr",
     "output_type": "stream",
     "text": [
      "/Users/nakayamarina/.pyenv/versions/anaconda3-4.4.0/lib/python3.6/site-packages/ipykernel_launcher.py:13: DeprecationWarning: 'U' mode is deprecated\n",
      "  del sys.path[0]\n"
     ]
    }
   ],
   "source": [
    "    # チャンク（試行数リスト？）の作成（この作業なしにやる方法がわからないので，必要のない作業ではあるがやる）\n",
    "\n",
    "    chunk = ['1'] * scan_num\n",
    "\n",
    "    chunks = pd.DataFrame(chunk)\n",
    "\n",
    "    PATH_chunk = PATH + 'chunks_list.csv'\n",
    "    chunks.to_csv(PATH_chunk, index = False, header = None)\n",
    "    print('chunks')\n",
    "\n",
    "    chunks_list = []\n",
    "\n",
    "    chunks = open(PATH_chunk, 'rU')\n",
    "\n",
    "    for x in chunks:\n",
    "        chunks_list.append(x.rstrip('\\r\\n'))\n",
    "\n",
    "    chunks.close()"
   ]
  },
  {
   "cell_type": "code",
   "execution_count": 387,
   "metadata": {},
   "outputs": [
    {
     "name": "stdout",
     "output_type": "stream",
     "text": [
      "../../Data_mri/tappingState-2fe/20181029rn/mb/rwmaskBA.nii\n",
      "dataset ready\n",
      "../../Data_mri/tappingState-2fe/20181029rn/mb/rwmask12346.nii\n",
      "dataset ready\n"
     ]
    }
   ],
   "source": [
    "    \n",
    "    for i in range(len(mask_list)):\n",
    "    \n",
    "        mask = mask_list[i]\n",
    "        print(mask)\n",
    "        \n",
    "        # 各ブロードマンエリアの対応表を結合する用データフレーム\n",
    "        BAeachs = pd.DataFrame(index = [], columns = [])\n",
    "        \n",
    "        # 最初のmaskは全ブロードマンエリアのもの\n",
    "        if i == 0:\n",
    "            \n",
    "            BA = CorrespondenceTable(targets_list, chunks_list, mask)\n",
    "            \n",
    "            # ボクセル番号を列として追加しておく\n",
    "            BAvoxName = pd.DataFrame(BA.index, columns = ['BAvoxelNum'], index = BA.index)\n",
    "            BA = pd.concat([BA, BAvoxName], axis = 1)\n",
    "            \n",
    "        else:\n",
    "            \n",
    "            BAeach = CorrespondenceTable(targets_list, chunks_list, mask)\n",
    "            \n",
    "#             # ボクセル番号を列として追加しておく\n",
    "#             BAvoxName = pd.DataFrame(BAeach.index, columns = ['voxelNum'], index = BAeach.index)\n",
    "#             BAeach = pd.concat([BAeach, BAvoxName], axis = 1)\n",
    "            \n",
    "            # ブロードマンエリア名を結合\n",
    "            BAname = pd.DataFrame([ba_list[i]] * len(BAeach), columns = ['BrodmannArea'], index = BAeach.index)\n",
    "            BAeachname = pd.concat([BAeach, BAname], axis = 1)\n",
    "            \n",
    "            # 結合する\n",
    "            BAeachs = pd.concat([BAeachs, BAeachname])\n",
    "            "
   ]
  },
  {
   "cell_type": "code",
   "execution_count": 358,
   "metadata": {},
   "outputs": [],
   "source": [
    "    # maskから得た全ブロードマンエリアの座標と各ブロードマンエリア結合によって得られた座標をキーとして結合\n",
    "    # how = 'left'を指定しておくことでどの座標とも当てはまらないものはNaNになる\n",
    "    VoxBaTable = pd.merge(BA, BAeachs, on = ['x', 'y', 'z'], how = 'left')\n",
    "    \n",
    "    # 行名をボクセルナンバーにしておく\n",
    "    VoxBaTable = VoxBaTable.set_index('BAvoxelNum')"
   ]
  },
  {
   "cell_type": "code",
   "execution_count": 352,
   "metadata": {},
   "outputs": [
    {
     "name": "stdout",
     "output_type": "stream",
     "text": [
      "BrodmannAreaAll : 70455\n",
      "MotorArea : 9846\n",
      "unknown : 60609\n"
     ]
    }
   ],
   "source": [
    "    # 各ブロードマンエリアのボクセル数格納\n",
    "    \n",
    "    # どのブロードマンエリア にも当てはまらないもの用\n",
    "    uk = 'unknown'\n",
    "    ba_list_new = ba_list + [uk]\n",
    "    \n",
    "    # 格納用データフレーム\n",
    "    col_name = ['Number of Voxels']\n",
    "    BAvoxNums = pd.DataFrame(index = ba_list_new, columns = col_name)\n",
    "    \n",
    "    i = 0\n",
    "    \n",
    "    for ba in ba_list_new:\n",
    "        \n",
    "        if ba == ba_list[0]:\n",
    "            \n",
    "            # 全ボクセル数\n",
    "            num = len(VoxBaTable)\n",
    "            BAvoxNums.loc[ba, col_name] = num\n",
    "        \n",
    "        elif ba == uk:\n",
    "\n",
    "            # 行ごとにNaNがあるか調べ，カウント -> 不明ボクセル\n",
    "            num = VoxBaTable.isnull().any(axis = 1).sum()\n",
    "            BAvoxNums.loc[ba, col_name] = num\n",
    "        \n",
    "        else:\n",
    "            \n",
    "            # 各ブロードマンエリアのボクセル数\n",
    "            num = len(VoxBaTable[VoxBaTable['BrodmannArea'] == ba])\n",
    "            BAvoxNums.loc[ba, col_name] = num\n",
    "            \n",
    "        \n",
    "        print(ba + ' : ' + str(num))\n",
    "        \n",
    "        i = i + 1"
   ]
  },
  {
   "cell_type": "code",
   "execution_count": 350,
   "metadata": {},
   "outputs": [],
   "source": [
    "    for ba in ba_list_new:\n",
    "        \n",
    "        \n",
    "        if ba == str(uk):\n",
    "            print('ok')"
   ]
  },
  {
   "cell_type": "code",
   "execution_count": 343,
   "metadata": {},
   "outputs": [
    {
     "data": {
      "text/plain": [
       "['BrodmannAreaAll', 'MotorArea', 'unknown']"
      ]
     },
     "execution_count": 343,
     "metadata": {},
     "output_type": "execute_result"
    }
   ],
   "source": [
    "ba_list_new"
   ]
  },
  {
   "cell_type": "code",
   "execution_count": 376,
   "metadata": {},
   "outputs": [],
   "source": [
    "a = pd.read_csv('../State-2fe_MaskBrodmann/20181029rn/64ch/RawData/raw_rest.csv', header = 0)"
   ]
  },
  {
   "cell_type": "code",
   "execution_count": 377,
   "metadata": {},
   "outputs": [
    {
     "data": {
      "text/plain": [
       "(96, 70455)"
      ]
     },
     "execution_count": 377,
     "metadata": {},
     "output_type": "execute_result"
    }
   ],
   "source": [
    "a.shape"
   ]
  },
  {
   "cell_type": "code",
   "execution_count": null,
   "metadata": {
    "collapsed": true
   },
   "outputs": [],
   "source": []
  }
 ],
 "metadata": {
  "kernelspec": {
   "display_name": "Python 3",
   "language": "python",
   "name": "python3"
  },
  "language_info": {
   "codemirror_mode": {
    "name": "ipython",
    "version": 3
   },
   "file_extension": ".py",
   "mimetype": "text/x-python",
   "name": "python",
   "nbconvert_exporter": "python",
   "pygments_lexer": "ipython3",
   "version": "3.6.1"
  }
 },
 "nbformat": 4,
 "nbformat_minor": 2
}
