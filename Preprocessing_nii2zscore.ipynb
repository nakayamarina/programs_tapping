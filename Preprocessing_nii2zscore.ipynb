{
 "cells": [
  {
   "cell_type": "markdown",
   "metadata": {},
   "source": [
    "# NiftiファイルからZ-scoreを自動抽出  \n",
    "---  \n",
    "  \n",
    "引数：4D化した.niiファイルがあるフォルダまでのパス  \n",
    "  \n",
    "---  \n",
    "  \n",
    "入力：4D化した.niiファイル，[部位名]mask.niiファイル（chunks_list.csv, targets_list.csv）  \n",
    "   \n",
    "---\n",
    "  \n",
    "出力：（chunks_list.csv, targets_list.csv）  \n",
    "  \n",
    "---  \n",
    "  \n",
    "注意：このプログラムはUbuntuでやったほうがいいかも（抽出する部位が多いほどデータが重くなってメモリがたりなくなる！）  \n",
    "  \n",
    "\n",
    "注意：このプログラムを実行する前に以下の作業をすること  \n",
    "\n",
    "3D脳画像データ（前処理済みの.niiファイル）を4Dに変換  \n",
    "  \n",
    "1. SPM起動\n",
    "2. Batchを開く\n",
    "3. 画面左上SPM → Util → 3D to 4D File Conversion\n",
    "3. 3D Volumesから4Dに変換したいファイル('swr'のついたniftiファイル全て)を選択\n",
    "4. Output Filenameでファイル名を指定\n",
    "5. 再生ボタンを押す\n",
    "\n",
    "Motor mask（Z-score化したいボクセルの位置）の作成  \n",
    "※ wfu_pickatlasはmatlabサーバーで実行（Macだと.nii形式で保存できなかった） \n",
    "※ 中山メモ：ubuntuでshareで作業するにはmatlabまで移動してshareを開く，基本的にsudoを使って作業（matlabもsudoで起動）    \n",
    " \n",
    "1. wfu_pickatlasフォルダをダウンロード（ネットから or Shareかnakayamaフォルダのどっかにある）\n",
    "2. MATLABでwfu_pickatlasフォルダのパスを通す\n",
    "3. MATLABコマンドライン上で > wfu_pickatlas で起動\n",
    "4. 画面左からマスクしたい部分を選択（全脳の場合は TD Hemispheres を全選択）\n",
    "5. SAVE MASKからマスク画像をmaskとして保存（名前に'-'とか入れない）\n",
    "6. SPM → fMRI起動\n",
    "7. MenuからNormalize(Est & Wri)を選択\n",
    "8. Bath Editorが立ち上がったらDataをダブルクリック\n",
    "9. Image to Alignには'swr'がファイル名についているniftiファイルを適当に1つ選択\n",
    "10. Image to Writeには先ほど作成したmaskファイルを選択\n",
    "11. 再生ボタンを押す → wmask.niiができる\n",
    "12. Batch Editorに戻りRealign(Reslice)を選択\n",
    "13. Imagesをダブルクリック\n",
    "14. 'swr'がファイル名についているniftiファイルを適当に一つ，先ほどできたwmask.niiファイルの順で選択\n",
    "15. 再生ボタンを押す → rwmask.niiができる  \n",
    "  \n",
    "Active masの作成\n",
    "1. MATLABコマンドライン上で > wfu_pickatlas\n",
    "2. ANALYSISのボタン押す\n",
    "3. SPM.matを選択する\n",
    "4. SPMでResultを出す要領でp値などを設定，基本的にnoクリック\n",
    "5. Moror maskの5以降と同様\n",
    "  \n",
    "※作成したrwmask.niiはどの部位のマスクかわかるように名前を変えている  \n",
    "・maskAll.nii：全脳  \n",
    "・rwmask12346.nii：ブロードマンエリア1,2,3,4,6"
   ]
  },
  {
   "cell_type": "code",
   "execution_count": 1,
   "metadata": {},
   "outputs": [
    {
     "name": "stderr",
     "output_type": "stream",
     "text": [
      "/home/nakayama/.pyenv/versions/anaconda3-5.3.0/lib/python3.7/site-packages/matplotlib/colors.py:53: DeprecationWarning: Using or importing the ABCs from 'collections' instead of from 'collections.abc' is deprecated, and in 3.8 it will stop working\n",
      "  from collections import Sized\n",
      "Failed to import duecredit due to No module named 'duecredit'\n",
      "/home/nakayama/.pyenv/versions/anaconda3-5.3.0/lib/python3.7/site-packages/h5py/_hl/base.py:19: DeprecationWarning: Using or importing the ABCs from 'collections' instead of from 'collections.abc' is deprecated, and in 3.8 it will stop working\n",
      "  from collections import (Mapping, MutableMapping, KeysView,\n",
      "/home/nakayama/.pyenv/versions/anaconda3-5.3.0/lib/python3.7/site-packages/nibabel/testing/__init__.py:21: DeprecationWarning: Importing from numpy.testing.decorators is deprecated, import from numpy.testing instead.\n",
      "  from numpy.testing.decorators import skipif\n",
      "/home/nakayama/.pyenv/versions/anaconda3-5.3.0/lib/python3.7/site-packages/nibabel/externals/oset.py:18: DeprecationWarning: Using or importing the ABCs from 'collections' instead of from 'collections.abc' is deprecated, and in 3.8 it will stop working\n",
      "  from collections import MutableSet\n",
      "/home/nakayama/.pyenv/versions/anaconda3-5.3.0/lib/python3.7/site-packages/nibabel/cifti2/cifti2.py:430: DeprecationWarning: Using or importing the ABCs from 'collections' instead of from 'collections.abc' is deprecated, and in 3.8 it will stop working\n",
      "  class Cifti2VoxelIndicesIJK(xml.XmlSerializable, collections.MutableSequence):\n",
      "/home/nakayama/.pyenv/versions/anaconda3-5.3.0/lib/python3.7/site-packages/sklearn/ensemble/weight_boosting.py:29: DeprecationWarning: numpy.core.umath_tests is an internal NumPy module and should not be imported. It will be removed in a future NumPy release.\n",
      "  from numpy.core.umath_tests import inner1d\n",
      "/home/nakayama/.pyenv/versions/anaconda3-5.3.0/lib/python3.7/site-packages/mvpa2/datasets/sources/skl_data.py:32: DeprecationWarning: inspect.getargspec() is deprecated, use inspect.signature() or inspect.getfullargspec()\n",
      "  argnames, varargs, varkw, defaults = inspect.getargspec(fx)\n",
      "<string>:60: DeprecationWarning: invalid escape sequence \\#\n",
      "<string>:59: DeprecationWarning: invalid escape sequence \\#\n",
      "<string>:59: DeprecationWarning: invalid escape sequence \\#\n",
      "<string>:65: DeprecationWarning: invalid escape sequence \\c\n",
      "/home/nakayama/.pyenv/versions/anaconda3-5.3.0/lib/python3.7/site-packages/statsmodels/base/wrapper.py:100: DeprecationWarning: `formatargspec` is deprecated since Python 3.5. Use `signature` and the `Signature` object directly\n",
      "  defaults=argspec[3])\n"
     ]
    }
   ],
   "source": [
    "from mvpa2.suite import *\n",
    "from mvpa2.datasets.mri import fmri_dataset\n",
    "import os\n",
    "import os.path\n",
    "from os.path import join as pathjoin\n",
    "from pprint import pprint\n",
    "# from nifti import NiftiImage\n",
    "import glob\n",
    "import numpy as np\n",
    "import pandas as pd\n",
    "import sys\n",
    "import pickle\n",
    "# import dill\n",
    "import csv\n",
    "\n",
    "import nibabel as nib"
   ]
  },
  {
   "cell_type": "markdown",
   "metadata": {},
   "source": [
    "コマンドライン引数で.niiファイルがあるディレクトリまでのパスを取得．"
   ]
  },
  {
   "cell_type": "code",
   "execution_count": 42,
   "metadata": {},
   "outputs": [],
   "source": [
    "#args = sys.argv\n",
    "#PATH_pre = args[1]\n",
    "\n",
    "# jupyter notebookのときはここで指定\n",
    "PATH = '../../Data_mri/tappingState-2fe/20181029rn/64ch/'\n",
    "\n",
    "# 総スキャン数\n",
    "scan_num = 192\n",
    "\n",
    "# 前処理済みならswrがついた.niiファイルを選択\n",
    "PATH_nii = PATH + '4D.nii'\n",
    "PATH_mask = PATH + 'rwmaskAll.nii'\n"
   ]
  },
  {
   "cell_type": "code",
   "execution_count": 43,
   "metadata": {},
   "outputs": [],
   "source": [
    "headcoil = PATH.split('/')[5]\n",
    "\n",
    "if headcoil == 'mb':\n",
    "\n",
    "    # 1タスクのスキャン数\n",
    "    taskNum = 296\n",
    "    \n",
    "elif headcoil == '64ch':\n",
    "\n",
    "    # 1タスクのスキャン数\n",
    "    taskNum = 96\n",
    "\n"
   ]
  },
  {
   "cell_type": "markdown",
   "metadata": {},
   "source": [
    "## splitRT関数\n",
    "\n",
    "引数に１ブロックのscan数を受け取り，Rest時とTapping時のデータを分けてcsvファイルで書き出し"
   ]
  },
  {
   "cell_type": "code",
   "execution_count": 44,
   "metadata": {},
   "outputs": [],
   "source": [
    "def splitRT(brain):\n",
    "\n",
    "    # Rest，Tappingのデータ抽出用maskを作成\n",
    "    # （行数 // number_scan）% 2　で割り切れる（0）ならRest，割り切れない（1）のであればTapping\n",
    "    # （除算は '//' としないと小数まで計算される）\n",
    "\n",
    "    maskRest = ([True] * taskNum) + ([False] * taskNum)\n",
    "    maskTapping = ([False] * taskNum) + ([True] * taskNum)\n",
    "    \n",
    "    # mask適用\n",
    "    dataRest = brain[maskRest]\n",
    "    dataTapping = brain[maskTapping]\n",
    "    \n",
    "    \n",
    "    # csv書き出し\n",
    "    PATH_rest = PATH + 'raw_rest.csv'\n",
    "    dataRest.to_csv(PATH_rest, index = False)\n",
    "    \n",
    "    PATH_tapping = PATH + 'raw_tapping.csv'\n",
    "    dataTapping.to_csv(PATH_tapping, index = False)"
   ]
  },
  {
   "cell_type": "markdown",
   "metadata": {},
   "source": [
    "# main関数"
   ]
  },
  {
   "cell_type": "markdown",
   "metadata": {},
   "source": [
    "* fMRIデータ（niftiファイル）読み込み\n",
    "* 全ボクセルデータZ-score化，抽出，書きだし"
   ]
  },
  {
   "cell_type": "code",
   "execution_count": 45,
   "metadata": {},
   "outputs": [],
   "source": [
    "if __name__ == '__main__':\n",
    "\n",
    "    # 4D化した.niiファイル名リストを作成\n",
    "\n",
    "    nifti = [PATH_nii]\n"
   ]
  },
  {
   "cell_type": "code",
   "execution_count": 46,
   "metadata": {},
   "outputs": [
    {
     "name": "stderr",
     "output_type": "stream",
     "text": [
      "/home/nakayama/.pyenv/versions/anaconda3-5.3.0/lib/python3.7/site-packages/ipykernel_launcher.py:14: DeprecationWarning: 'U' mode is deprecated\n",
      "  \n"
     ]
    }
   ],
   "source": [
    "    # 教師データの作成（この作業なしにやる方法がわからないので，必要のない作業ではあるがやる）\n",
    "\n",
    "    task = ['0'] * int(scan_num / 2)\n",
    "    task2 = ['1'] * int(scan_num / 2)\n",
    "\n",
    "    task.extend(task2)\n",
    "    target = pd.DataFrame(task)\n",
    "\n",
    "    PATH_target = PATH + 'targets_list.csv'\n",
    "    target.to_csv(PATH_target, index = False, header = None)\n",
    "\n",
    "    targets_list = []\n",
    "\n",
    "    targets_file = open(PATH_target, 'rU')\n",
    "    dataReader = csv.reader(targets_file)\n",
    "\n",
    "    for row in dataReader:\n",
    "        targets_list.append(row[0])"
   ]
  },
  {
   "cell_type": "code",
   "execution_count": 47,
   "metadata": {},
   "outputs": [
    {
     "name": "stderr",
     "output_type": "stream",
     "text": [
      "/home/nakayama/.pyenv/versions/anaconda3-5.3.0/lib/python3.7/site-packages/ipykernel_launcher.py:12: DeprecationWarning: 'U' mode is deprecated\n",
      "  if sys.path[0] == '':\n"
     ]
    }
   ],
   "source": [
    "    # チャンク（試行数リスト？）の作成（この作業なしにやる方法がわからないので，必要のない作業ではあるがやる）\n",
    "\n",
    "    chunk = ['1'] * scan_num\n",
    "\n",
    "    chunks = pd.DataFrame(chunk)\n",
    "\n",
    "    PATH_chunk = PATH + 'chunks_list.csv'\n",
    "    chunks.to_csv(PATH_chunk, index = False, header = None)\n",
    "\n",
    "    chunks_list = []\n",
    "\n",
    "    chunks = open(PATH_chunk, 'rU')\n",
    "\n",
    "    for x in chunks:\n",
    "        chunks_list.append(x.rstrip('\\r\\n'))\n",
    "\n",
    "    chunks.close()\n"
   ]
  },
  {
   "cell_type": "code",
   "execution_count": 48,
   "metadata": {
    "scrolled": true
   },
   "outputs": [
    {
     "name": "stderr",
     "output_type": "stream",
     "text": [
      "/home/nakayama/.pyenv/versions/anaconda3-5.3.0/lib/python3.7/site-packages/mvpa2/mappers/detrend.py:325: FutureWarning: `rcond` parameter will change to the default of machine precision times ``max(M, N)`` where M and N are the input matrix dimensions.\n",
      "To use the future default and silence this warning we advise to pass `rcond=None`, to keep using the old, explicitly pass `rcond=-1`.\n",
      "  fit = np.linalg.lstsq(regs, ds.samples)\n"
     ]
    }
   ],
   "source": [
    "    # データセットの整形\n",
    "\n",
    "    dataset = fmri_dataset(nifti, targets=targets_list, chunks=chunks_list, mask=PATH_mask ,sprefix='voxel', tprefix='time', add_fa=None)\n",
    "\n",
    "    poly_detrend(dataset, polyord=1, chunks_attr='chunks')\n",
    "\n",
    "    dataset = dataset[np.array([l in ['0', '1']\n",
    "                               for l in dataset.targets], dtype='bool')]"
   ]
  },
  {
   "cell_type": "code",
   "execution_count": 49,
   "metadata": {},
   "outputs": [
    {
     "name": "stdout",
     "output_type": "stream",
     "text": [
      "(192, 70455)\n"
     ]
    }
   ],
   "source": [
    "    # Z-score抽出 → データフレーム化\n",
    "    zscore(dataset, chunks_attr='chunks', param_est=('targets', ['0']), dtype='float32')\n",
    "\n",
    "    VoxelData = pd.DataFrame(np.array(dataset[:,:]))\n",
    "    print(VoxelData .shape)"
   ]
  },
  {
   "cell_type": "code",
   "execution_count": 50,
   "metadata": {},
   "outputs": [],
   "source": [
    "    voxName = []\n",
    "    \n",
    "    for i in range(len(VoxelData.columns)):\n",
    "        \n",
    "        name = 'Voxel' + str(i+1)\n",
    "        \n",
    "        voxName.append(name)\n",
    "    \n",
    "    VoxelData.columns = voxName"
   ]
  },
  {
   "cell_type": "code",
   "execution_count": 51,
   "metadata": {},
   "outputs": [],
   "source": [
    "    # 全データのcevファイル書き出し\n",
    "    PATH_all = PATH + 'all_raw.csv'\n",
    "    VoxelData.to_csv(PATH_all, index = False)"
   ]
  },
  {
   "cell_type": "code",
   "execution_count": 52,
   "metadata": {},
   "outputs": [],
   "source": [
    "    splitRT(VoxelData)"
   ]
  },
  {
   "cell_type": "code",
   "execution_count": null,
   "metadata": {},
   "outputs": [],
   "source": []
  },
  {
   "cell_type": "code",
   "execution_count": 19,
   "metadata": {},
   "outputs": [
    {
     "data": {
      "text/plain": [
       "(79, 95, 79)"
      ]
     },
     "execution_count": 19,
     "metadata": {},
     "output_type": "execute_result"
    }
   ],
   "source": [
    "# もしデータセットの整形でサイズエラーが出た時は以下で.niiファイル読み込みしてサイズを確認する\n",
    "nii0 = nib.load('../../Data_mri/tappingState-2fe/20181029rn/64ch/wmaskAll.nii')\n",
    "img0 = nii0.get_data()\n",
    "img0.shape"
   ]
  },
  {
   "cell_type": "code",
   "execution_count": null,
   "metadata": {
    "collapsed": true
   },
   "outputs": [],
   "source": []
  },
  {
   "cell_type": "code",
   "execution_count": null,
   "metadata": {
    "collapsed": true
   },
   "outputs": [],
   "source": []
  }
 ],
 "metadata": {
  "kernelspec": {
   "display_name": "Python 3",
   "language": "python",
   "name": "python3"
  },
  "language_info": {
   "codemirror_mode": {
    "name": "ipython",
    "version": 3
   },
   "file_extension": ".py",
   "mimetype": "text/x-python",
   "name": "python",
   "nbconvert_exporter": "python",
   "pygments_lexer": "ipython3",
   "version": "3.7.0"
  }
 },
 "nbformat": 4,
 "nbformat_minor": 2
}
