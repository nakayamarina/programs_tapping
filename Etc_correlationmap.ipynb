{
 "cells": [
  {
   "cell_type": "markdown",
   "metadata": {},
   "source": [
    "# 相関マップ\n",
    "---\n",
    "引数：raw_rest.csv/raw_tapping.csvがあるディレクトリまでのパス\n",
    "\n",
    "----\n",
    "\n",
    "入力：raw_rest.csv/raw_tapping.csv\n",
    "\n",
    "----\n",
    "\n",
    "出力：correlationmap.csv ボクセルごとに相関を算出したもの一覧  \n",
    "  \n",
    "---\n",
    "ボクセルごとに相関を算出する．  \n",
    "値のものほど相関が大きいということになるため，昇順に並べ替えておく．"
   ]
  },
  {
   "cell_type": "code",
   "execution_count": 1,
   "metadata": {},
   "outputs": [
    {
     "name": "stdout",
     "output_type": "stream",
     "text": [
      "############ Etc_correlationmap.py program excution ############\n"
     ]
    }
   ],
   "source": [
    "print('############ Etc_correlationmap.py program excution ############')"
   ]
  },
  {
   "cell_type": "code",
   "execution_count": 2,
   "metadata": {
    "collapsed": true
   },
   "outputs": [],
   "source": [
    "import numpy as np\n",
    "import pandas as pd\n",
    "import sys"
   ]
  },
  {
   "cell_type": "code",
   "execution_count": 3,
   "metadata": {
    "collapsed": true
   },
   "outputs": [],
   "source": [
    "#args = sys.argv\n",
    "#PATH = args[1]\n",
    "\n",
    "# jupyter notebookのときはここで指定\n",
    "PATH = '../State-2fe_SpmActive/20181029rn/mb/RawData/'"
   ]
  },
  {
   "cell_type": "code",
   "execution_count": 4,
   "metadata": {
    "collapsed": true
   },
   "outputs": [],
   "source": [
    "# 読み込みたいファイルのパス\n",
    "PATH_rest = PATH + 'raw_rest.csv'\n",
    "PATH_tapping = PATH + 'raw_tapping.csv'\n",
    "\n",
    "# csvファイル読み込み\n",
    "# headerは設定せず，転置後にset_index()する（header = 0にすると列名が変えられる）\n",
    "rest = pd.read_csv(PATH_rest, header = 0, index_col = None).T\n",
    "\n",
    "tapping = pd.read_csv(PATH_tapping, header = 0, index_col = None).T"
   ]
  },
  {
   "cell_type": "code",
   "execution_count": 5,
   "metadata": {
    "collapsed": true
   },
   "outputs": [],
   "source": [
    "# データフレームに格納されている値がstr型なのでfloat型にする\n",
    "rest = rest.astype(float)\n",
    "tapping = tapping.astype(float)"
   ]
  },
  {
   "cell_type": "code",
   "execution_count": 7,
   "metadata": {},
   "outputs": [
    {
     "name": "stdout",
     "output_type": "stream",
     "text": [
      "Voxel1( 1 / 7 ) : 0.105601539082\n",
      "Voxel2( 2 / 7 ) : 0.0922986363488\n",
      "Voxel3( 3 / 7 ) : 0.23671582148\n",
      "Voxel4( 4 / 7 ) : 0.0267106810624\n",
      "Voxel5( 5 / 7 ) : 0.128667033833\n",
      "Voxel6( 6 / 7 ) : 0.0148174538772\n",
      "Voxel7( 7 / 7 ) : 0.000571038044526\n"
     ]
    }
   ],
   "source": [
    "# ボクセル数\n",
    "voxNum = len(rest)\n",
    "\n",
    "# 何ボクセル目かをカウント\n",
    "counter = 0\n",
    "\n",
    "# ボクセル名取得用\n",
    "voxNames = []\n",
    "\n",
    "# ボクセルごとの相関格納用\n",
    "cormap = []\n",
    "\n",
    "for voxNo in range(voxNum):\n",
    "\n",
    "    voxName = 'Voxel' + str(voxNo + 1)\n",
    "\n",
    "    # ボクセルのデータを取得\n",
    "    restVox = rest.loc[voxName]\n",
    "    tappingVox = tapping.loc[voxName]\n",
    "    \n",
    "    # array型に変換，各試行を一つにまとめる\n",
    "    restar = np.array(restVox).reshape(-1)\n",
    "    tappingar = np.array(tappingVox).reshape(-1)\n",
    "    \n",
    "    # 相関を求める\n",
    "    cor_matrix = np.corrcoef(restar, tappingar)\n",
    "    \n",
    "    # 相関行列という形になっているので相関係数を取得\n",
    "    cor = cor_matrix[0][1]\n",
    "    \n",
    "    # 求めた相関係数の絶対値を格納\n",
    "    cormap = cormap + [abs(cor)]\n",
    "    \n",
    "    print(voxName + '( ' + str(counter+1) + ' / ' + str(voxNum) + ' ) : ' + str(cor))\n",
    "    \n",
    "    counter = counter + 1\n",
    "    voxNames = voxNames + [voxName]"
   ]
  },
  {
   "cell_type": "code",
   "execution_count": 8,
   "metadata": {
    "collapsed": true
   },
   "outputs": [],
   "source": [
    "# 相関一覧をデータフレーム化\n",
    "cormap = pd.DataFrame(cormap)\n",
    "\n",
    "# カラム名，インデックス名をつける\n",
    "cormap.index = voxNames\n",
    "cormap.columns = ['Correlation']"
   ]
  },
  {
   "cell_type": "code",
   "execution_count": 9,
   "metadata": {
    "collapsed": true
   },
   "outputs": [],
   "source": [
    "# 相関の大き順に並べ替え\n",
    "cormap_sort = cormap.sort_values('Correlation', ascending = False)"
   ]
  },
  {
   "cell_type": "code",
   "execution_count": 10,
   "metadata": {
    "collapsed": true
   },
   "outputs": [],
   "source": [
    "# csv書き出し\n",
    "PATH_cormap = PATH + 'correlationmap.csv'\n",
    "cormap_sort.to_csv(PATH_cormap)"
   ]
  },
  {
   "cell_type": "code",
   "execution_count": 11,
   "metadata": {
    "collapsed": true
   },
   "outputs": [],
   "source": [
    "# 相関一覧をデータフレーム化\n",
    "cormap = pd.DataFrame(cormap)\n",
    "\n",
    "# カラム名，インデックス名をつける\n",
    "cormap.index = voxNames\n",
    "cormap.columns = ['Correlation']\n",
    "# 相関の大き順に並べ替え\n",
    "cormap_sort = cormap.sort_values('Correlation', ascending = False)"
   ]
  },
  {
   "cell_type": "code",
   "execution_count": null,
   "metadata": {
    "collapsed": true
   },
   "outputs": [],
   "source": []
  }
 ],
 "metadata": {
  "kernelspec": {
   "display_name": "Python 3",
   "language": "python",
   "name": "python3"
  },
  "language_info": {
   "codemirror_mode": {
    "name": "ipython",
    "version": 3
   },
   "file_extension": ".py",
   "mimetype": "text/x-python",
   "name": "python",
   "nbconvert_exporter": "python",
   "pygments_lexer": "ipython3",
   "version": "3.6.1"
  }
 },
 "nbformat": 4,
 "nbformat_minor": 2
}
