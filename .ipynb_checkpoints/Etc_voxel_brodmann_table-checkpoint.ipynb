{
 "cells": [
  {
   "cell_type": "markdown",
   "metadata": {},
   "source": [
    "# ボクセル番号とブロードマンエリア対応表"
   ]
  },
  {
   "cell_type": "markdown",
   "metadata": {
    "collapsed": true
   },
   "source": [
    "----  \n",
    "  \n",
    "引数：4D化した.niiファイルがあるフォルダまでのパス / 書き出すcsvの保存先  \n",
    "  \n",
    "---  \n",
    "  \n",
    "入力：4D化した.niiファイルがあるフォルダまでのパス / 書き出すcsvの保存先 / 各種mask.nii（chunks_list.csv, targets_list.csv）  \n",
    "   \n",
    "---\n",
    "  \n",
    "出力：Table_voxel-brodmann.csv（chunks_list.csv, targets_list.csv）  \n",
    "  \n",
    "---  \n",
    "  \n",
    "ボクセル番号からブロードマンエリアを特定するための対応表を作る．  \n",
    "そのためには，被験者の脳データの4D.nii，全ブロードマンエリアのマスク，各ブロードマンエリアのマスクを作っておく必要がある．  \n",
    "詳しくはPreprocessing_nii2zscore.py参照．"
   ]
  },
  {
   "cell_type": "code",
   "execution_count": 5,
   "metadata": {},
   "outputs": [
    {
     "name": "stderr",
     "output_type": "stream",
     "text": [
      "Failed to import duecredit due to No module named 'duecredit'\n"
     ]
    },
    {
     "name": "stdout",
     "output_type": "stream",
     "text": [
      "WARNING: Failed to load fast implementation of SMLR.  May be you forgotten to build it.  We will use much slower pure-Python version. Original exception was dlopen(/Users/nakayamarina/.pyenv/versions/anaconda3-4.4.0/lib/python3.6/site-packages/mvpa2/clfs/libsmlrc/smlrc.so, 6): image not found\n",
      " * Please note: warnings are printed only once, but underlying problem might occur many times *\n",
      "WARNING: SMLR: C implementation is not available. Using pure Python one\n"
     ]
    },
    {
     "name": "stderr",
     "output_type": "stream",
     "text": [
      "/Users/nakayamarina/.pyenv/versions/anaconda3-4.4.0/lib/python3.6/site-packages/mvpa2/datasets/sources/skl_data.py:32: DeprecationWarning: inspect.getargspec() is deprecated, use inspect.signature() or inspect.getfullargspec()\n",
      "  argnames, varargs, varkw, defaults = inspect.getargspec(fx)\n",
      "<string>:60: DeprecationWarning: invalid escape sequence \\#\n",
      "<string>:59: DeprecationWarning: invalid escape sequence \\#\n",
      "<string>:59: DeprecationWarning: invalid escape sequence \\#\n",
      "<string>:65: DeprecationWarning: invalid escape sequence \\c\n",
      "/Users/nakayamarina/.pyenv/versions/anaconda3-4.4.0/lib/python3.6/site-packages/statsmodels/compat/pandas.py:56: FutureWarning: The pandas.core.datetools module is deprecated and will be removed in a future version. Please use the pandas.tseries module instead.\n",
      "  from pandas.core import datetools\n"
     ]
    }
   ],
   "source": [
    "from mvpa2.suite import *\n",
    "from mvpa2.datasets.mri import fmri_dataset\n",
    "import os\n",
    "import os.path\n",
    "from os.path import join as pathjoin\n",
    "from pprint import pprint\n",
    "# from nifti import NiftiImage\n",
    "import glob\n",
    "import numpy as np\n",
    "import pandas as pd\n",
    "import sys\n",
    "import pickle\n",
    "# import dill\n",
    "import csv\n",
    "\n",
    "import nibabel as nib"
   ]
  },
  {
   "cell_type": "code",
   "execution_count": 6,
   "metadata": {
    "collapsed": true
   },
   "outputs": [],
   "source": [
    "# !!!!!!!!! scanNumらへん，datasetのパラメータ書き換え！！\n",
    "\n",
    "# args = sys.argv\n",
    "# PATH = args[1]\n",
    "# PATH_save = args[2]\n",
    "\n",
    "#jupyter notebookのときはここで指定\n",
    "PATH = '../../Data_mri/tappingState-2fe/20181029rn/mb/'\n",
    "PATH_save = '../State-2fe_MaskBrodmann/20181029rn/mb/'\n",
    "\n",
    "# 前処理済みならswrがついた.niiファイルを選択\n",
    "PATH_nii = PATH + '4D.nii'\n",
    "\n",
    "# マスクの種類数：全ブロードマンエリア + 各ブロードマンエリア（75種）= 76\n",
    "maskNum = 76\n",
    "\n",
    "# マスク名のリストとブロードマンエリア名のリスト作成\n",
    "mask_list = []\n",
    "ba_list = []\n",
    "\n",
    "for i in range(maskNum):\n",
    "\n",
    "    mask_list = mask_list + [PATH + 'rwmask' + str(i) + '.nii']\n",
    "    ba_list = ba_list + ['BrodmannArea' + str(i)]\n",
    "    \n",
    "mask_list[0] = PATH + 'rwmaskBA.nii'\n",
    "\n",
    "# ブロードマンエリア1-47の他に名前のついた部位があるのでその名前リスト\n",
    "etc_area = ['Amygdala', 'AnteriorCommissure', 'CaudateBody', 'CaudateHead',\n",
    "            'CaudateTail', 'CorpusCallsum', 'Dentate', 'Hippocampus', 'Hypothalamus',\n",
    "            'LateralDorsalNucleus', 'LateralGeniculumBody', 'LateralGlobusPallidus',\n",
    "            'LateralPosteriorNuckleus', 'MammillaryBody', 'MedialDorsalNucleus', 'OpticTract',\n",
    "            'MedialGeniculumBody', 'MedialGlobusPallidus', 'MidlineNucleus',\n",
    "            'Pulvinar', 'Putamen', 'RedNucleus', 'SubstaniaNigra', 'SubthalamicNucleus',\n",
    "            'VentralAnteriorNucleus', 'VentralLateralNucleus',\n",
    "            'VentralPosteriorLateralNucleus', 'VentralPosteriorMediaNucleus']\n",
    "\n",
    "ba_list[0] = 'BrodmannAreaAll'\n",
    "ba_list[48:maskNum] = etc_area"
   ]
  },
  {
   "cell_type": "code",
   "execution_count": 7,
   "metadata": {
    "collapsed": true
   },
   "outputs": [],
   "source": [
    "headcoil = PATH.split('/')[5]\n",
    "\n",
    "if headcoil == 'mb':\n",
    "\n",
    "    # 総スキャン数\n",
    "    scan_num = 592\n",
    "\n",
    "    # 1タスクのスキャン数\n",
    "    taskNum = 296\n",
    "\n",
    "elif headcoil == '64ch':\n",
    "\n",
    "    # 総スキャン数\n",
    "    scan_num = 192\n",
    "\n",
    "    # 1タスクのスキャン数\n",
    "    taskNum = 96"
   ]
  },
  {
   "cell_type": "code",
   "execution_count": 8,
   "metadata": {
    "collapsed": true
   },
   "outputs": [],
   "source": [
    "# RawDataのディレクトリ名・パス\n",
    "DIR_RAW = PATH_save + 'RawData'\n",
    "PATH_RAW = DIR_RAW + '/'\n",
    "\n",
    "# すでに存在する場合は何もせず，存在していない場合はディレクトリ作成\n",
    "if not os.path.exists(DIR_RAW):\n",
    "    os.mkdir(DIR_RAW)"
   ]
  },
  {
   "cell_type": "code",
   "execution_count": 9,
   "metadata": {
    "collapsed": true
   },
   "outputs": [],
   "source": [
    "# mask_list = ['rwmaskBA.nii', 'rwmask13.nii', 'rwmask14.nii', 'rwmask15.nii', 'rwmask16.nii']\n",
    "# ba_list = ['all', '13', '14', '15', '16']"
   ]
  },
  {
   "cell_type": "markdown",
   "metadata": {},
   "source": [
    "# CorrespondenceTable関数"
   ]
  },
  {
   "cell_type": "code",
   "execution_count": 10,
   "metadata": {
    "collapsed": true
   },
   "outputs": [],
   "source": [
    "def CorrespondenceTable(target, chunk, mask):\n",
    "\n",
    "    # データセットの整形\n",
    "\n",
    "    dataset = fmri_dataset(nifti, targets=target, chunks=chunk, mask=mask ,sprefix='voxel', tprefix='time', add_fa=None)\n",
    "\n",
    "    print('dataset ready')\n",
    "\n",
    "    poly_detrend(dataset, polyord=1, chunks_attr='chunks')\n",
    "\n",
    "    dataset = dataset[np.array([l in ['0', '1']\n",
    "                               for l in dataset.targets], dtype='bool')]\n",
    "    \n",
    "    # ボクセル数を取得し，ボクセル名作成\n",
    "    voxNum = dataset.shape[1]\n",
    "    \n",
    "    VoxName = []\n",
    "    \n",
    "    for i in range(voxNum):\n",
    "        \n",
    "        name = 'Voxel' + str(i+1)\n",
    "        VoxName.append(name)\n",
    "    \n",
    "    \n",
    "    # ボクセル位置(x, y, z)を取得\n",
    "    voxPosition = dataset.fa.values()\n",
    "    voxPosition = list(voxPosition)[0][:]\n",
    "    voxPosition = pd.DataFrame(voxPosition, columns = ['x', 'y', 'z'], index = VoxName)\n",
    "    \n",
    "    return voxPosition"
   ]
  },
  {
   "cell_type": "markdown",
   "metadata": {},
   "source": [
    "# Main関数"
   ]
  },
  {
   "cell_type": "code",
   "execution_count": 11,
   "metadata": {},
   "outputs": [],
   "source": [
    "if __name__ == '__main__':\n",
    "    \n",
    "    ########## ボクセルデータ（情報）抽出準備 #########\n",
    "\n",
    "    # 4D化した.niiファイル名リストを作成\n",
    "\n",
    "    nifti = [PATH_nii]"
   ]
  },
  {
   "cell_type": "code",
   "execution_count": 12,
   "metadata": {},
   "outputs": [
    {
     "name": "stdout",
     "output_type": "stream",
     "text": [
      "target\n"
     ]
    },
    {
     "name": "stderr",
     "output_type": "stream",
     "text": [
      "/Users/nakayamarina/.pyenv/versions/anaconda3-4.4.0/lib/python3.6/site-packages/ipykernel_launcher.py:17: DeprecationWarning: 'U' mode is deprecated\n"
     ]
    }
   ],
   "source": [
    "    # 教師データの作成（この作業なしにやる方法がわからないので，必要のない作業ではあるがやる）\n",
    "\n",
    "    task = ['0'] * taskNum\n",
    "    task2 = ['1'] * taskNum\n",
    "\n",
    "    task.extend(task2)\n",
    "    target = pd.DataFrame(task)\n",
    "\n",
    "    target = pd.DataFrame(task)\n",
    "\n",
    "    PATH_target = PATH + 'targets_list.csv'\n",
    "    target.to_csv(PATH_target, index = False, header = None)\n",
    "    print('target')\n",
    "\n",
    "    targets_list = []\n",
    "\n",
    "    targets_file = open(PATH_target, 'rU')\n",
    "    dataReader = csv.reader(targets_file)\n",
    "\n",
    "    for row in dataReader:\n",
    "        targets_list.append(row[0])"
   ]
  },
  {
   "cell_type": "code",
   "execution_count": 13,
   "metadata": {},
   "outputs": [
    {
     "name": "stdout",
     "output_type": "stream",
     "text": [
      "chunks\n"
     ]
    },
    {
     "name": "stderr",
     "output_type": "stream",
     "text": [
      "/Users/nakayamarina/.pyenv/versions/anaconda3-4.4.0/lib/python3.6/site-packages/ipykernel_launcher.py:13: DeprecationWarning: 'U' mode is deprecated\n",
      "  del sys.path[0]\n"
     ]
    }
   ],
   "source": [
    "    # チャンク（試行数リスト？）の作成（この作業なしにやる方法がわからないので，必要のない作業ではあるがやる）\n",
    "\n",
    "    chunk = ['1'] * scan_num\n",
    "\n",
    "    chunks = pd.DataFrame(chunk)\n",
    "\n",
    "    PATH_chunk = PATH + 'chunks_list.csv'\n",
    "    chunks.to_csv(PATH_chunk, index = False, header = None)\n",
    "    print('chunks')\n",
    "\n",
    "    chunks_list = []\n",
    "\n",
    "    chunks = open(PATH_chunk, 'rU')\n",
    "\n",
    "    for x in chunks:\n",
    "        chunks_list.append(x.rstrip('\\r\\n'))\n",
    "\n",
    "    chunks.close()"
   ]
  },
  {
   "cell_type": "code",
   "execution_count": null,
   "metadata": {},
   "outputs": [
    {
     "name": "stdout",
     "output_type": "stream",
     "text": [
      "../../Data_mri/tappingState-2fe/20181029rn/mb/rwmaskBA.nii\n"
     ]
    }
   ],
   "source": [
    "    ########## マスクごとに抽出したボクセルの座標一覧取得 #########\n",
    "    \n",
    "    # 各ブロードマンエリアの対応表を結合する用データフレーム\n",
    "    BAeachs = pd.DataFrame(index = [], columns = [])\n",
    "        \n",
    "\n",
    "    for i in range(len(mask_list)):\n",
    "    \n",
    "        mask = mask_list[i]\n",
    "        print(mask)\n",
    "        \n",
    "        \n",
    "        # 最初のmaskは全ブロードマンエリアのもの\n",
    "        if i == 0:\n",
    "            \n",
    "            BA = CorrespondenceTable(targets_list, chunks_list, mask)\n",
    "            print(ba_list[i] + ' : ' + str(len(BA)))\n",
    "            \n",
    "            # ボクセル番号を列として追加しておく\n",
    "            BAvoxName = pd.DataFrame(BA.index, columns = ['BAvoxelNum'], index = BA.index)\n",
    "            BA = pd.concat([BA, BAvoxName], axis = 1)\n",
    "            \n",
    "            \n",
    "        # 時系列データ（ボクセル）が存在しないブロードマンエリア12，14，15．16は除外\n",
    "        elif (i == 12 or i == 14 or i == 15 or i == 16 or i == 26):\n",
    "\n",
    "            print('-> NaN')\n",
    "\n",
    "        else:\n",
    "            \n",
    "            BAeach = CorrespondenceTable(targets_list, chunks_list, mask)\n",
    "            \n",
    "            print(ba_list[i] + ' : ' + str(len(BAeach)))\n",
    "            \n",
    "#             # ボクセル番号を列として追加しておく\n",
    "#             BAvoxName = pd.DataFrame(BAeach.index, columns = ['voxelNum'], index = BAeach.index)\n",
    "#             BAeach = pd.concat([BAeach, BAvoxName], axis = 1)\n",
    "            \n",
    "            # ブロードマンエリア名を結合\n",
    "            BAname = pd.DataFrame([ba_list[i]] * len(BAeach), columns = ['BrodmannArea'], index = BAeach.index)\n",
    "            \n",
    "            BAeachname = pd.concat([BAeach, BAname], axis = 1)\n",
    "            \n",
    "            # 結合する\n",
    "            BAeachs = pd.concat([BAeachs, BAeachname])\n",
    "        \n",
    "    PATH_be = PATH_RAW + 'VoxelTable.csv'\n",
    "    print(PATH_be)\n",
    "    BAeachs.to_csv(PATH_be)\n",
    "            "
   ]
  },
  {
   "cell_type": "code",
   "execution_count": 192,
   "metadata": {
    "collapsed": true
   },
   "outputs": [],
   "source": [
    "    ########## 全ブロードマンエリアのボクセルナンバーとブロードマンエリア名の対応表作成（不明ボクセル情報取得） #########\n",
    "\n",
    "    # maskから得た全ブロードマンエリアの座標と各ブロードマンエリア結合によって得られた座標をキーとして結合\n",
    "    # how = 'left'を指定することで，各ブロードマンエリアの座標のどれとも当てはまらないものはNaNになる\n",
    "    VoxBaTable = pd.merge(BA, BAeachs, on = ['x', 'y', 'z'], how = 'left')\n",
    "    \n",
    "    # 欠損（どのブロードマンエリアとも当てはまらない座標をもつもの）はunknownと名付ける\n",
    "    uk = 'unknown'\n",
    "    VoxBaTable = VoxBaTable.fillna({'BrodmannArea':uk})"
   ]
  },
  {
   "cell_type": "code",
   "execution_count": 193,
   "metadata": {},
   "outputs": [
    {
     "name": "stdout",
     "output_type": "stream",
     "text": [
      "../State-2fe_MaskBrodmann/20181029rn/mb/RawData/VoxelBrodmannTable_Nanall.csv\n"
     ]
    }
   ],
   "source": [
    "    # NaNを含むもの一覧を取得，csv書き出ししておく\n",
    "    allNanTable = VoxBaTable[VoxBaTable['BrodmannArea'] == uk]\n",
    "    PATH_aNT = PATH_RAW + 'VoxelBrodmannTable_Nanall.csv'\n",
    "    print(PATH_aNT)\n",
    "    allNanTable.to_csv(PATH_aNT)\n",
    "    \n",
    "    # 行名を連番にしておく\n",
    "    index_name = range(len(allNanTable))\n",
    "    allNanTable.index = index_name"
   ]
  },
  {
   "cell_type": "code",
   "execution_count": 195,
   "metadata": {},
   "outputs": [
    {
     "name": "stdout",
     "output_type": "stream",
     "text": [
      "../State-2fe_MaskBrodmann/20181029rn/mb/RawData/VoxelBrodmannTable.csv\n"
     ]
    }
   ],
   "source": [
    "    # 対応表をcsv書き出し\n",
    "    \n",
    "    # ボクセルナンバーを行名にしておく\n",
    "    VoxBaTable_new = VoxBaTable\n",
    "    VoxBaTable_new = VoxBaTable_new.set_index(['BAvoxelNum'])\n",
    "    \n",
    "    PATH_vbt = PATH_RAW + 'VoxelBrodmannTable.csv'\n",
    "    print(PATH_vbt)\n",
    "    VoxBaTable_new.to_csv(PATH_vbt)"
   ]
  },
  {
   "cell_type": "code",
   "execution_count": 177,
   "metadata": {
    "collapsed": true
   },
   "outputs": [],
   "source": [
    "    ########## （不明ボクセル情報取得） #########\n",
    "\n",
    "    # maskから得た全ブロードマンエリアの座標と各ブロードマンエリア結合によって得られた座標をキーとして結合\n",
    "    # how = 'right'を指定することで，全ブロードマンエリアの座標のどれとも当てはまらないものはNaNになる\n",
    "    VoxBaTable_right = pd.merge(BA, BAeachs, on = ['x', 'y', 'z'], how = 'right')\n",
    "    \n",
    "    # 欠損（どのブロードマンエリアとも当てはまらない座標をもつもの）はunknownと名付ける\n",
    "    uk = 'unknown'\n",
    "    VoxBaTable_right = VoxBaTable_right.fillna({'BAvoxelNum':uk})\n"
   ]
  },
  {
   "cell_type": "code",
   "execution_count": 178,
   "metadata": {},
   "outputs": [
    {
     "name": "stdout",
     "output_type": "stream",
     "text": [
      "../State-2fe_MaskBrodmann/20181029rn/mb/RawData/VoxelBrodmannTable_NanEach.csv\n"
     ]
    }
   ],
   "source": [
    "    # NaNを含むもの一覧を取得，csv書き出ししておく\n",
    "    eachNanTable = VoxBaTable_right[VoxBaTable_right['BAvoxelNum'] == uk]\n",
    "    PATH_eNT = PATH_RAW + 'VoxelBrodmannTable_NanEach.csv'\n",
    "    print(PATH_eNT)\n",
    "    \n",
    "    # 行名を連番にしておく\n",
    "    index_name = range(len(eachNanTable))\n",
    "    eachNanTable.index = index_name\n",
    "    \n",
    "    eachNanTable.to_csv(PATH_eNT)\n"
   ]
  },
  {
   "cell_type": "code",
   "execution_count": 201,
   "metadata": {},
   "outputs": [
    {
     "name": "stdout",
     "output_type": "stream",
     "text": [
      "BrodmannAreaAll : 69555\n",
      "MotorArea : 9755\n",
      "unknown : 59800\n"
     ]
    }
   ],
   "source": [
    "    ########## 作成した対応表における各ブロードマンエリアのボクセル数一覧作成 #########\n",
    "    \n",
    "    # unknown分も数えるため\n",
    "    ba_list_new = ba_list + [uk]\n",
    "    \n",
    "    # 格納用データフレーム\n",
    "    col_name = ['Number of Voxels']\n",
    "    BAvoxNums = pd.DataFrame(index = ba_list_new, columns = col_name)\n",
    "    \n",
    "    \n",
    "    i = 0\n",
    "    \n",
    "    for ba in ba_list_new:\n",
    "        \n",
    "        if ba == ba_list[0]:\n",
    "            \n",
    "            # 全ボクセル数\n",
    "            num = len(VoxBaTable)\n",
    "            BAvoxNums.loc[ba, col_name] = num\n",
    "        \n",
    "        else:\n",
    "            \n",
    "            # 各ブロードマンエリアのボクセル数\n",
    "            num = len(VoxBaTable[VoxBaTable['BrodmannArea'] == ba])\n",
    "            BAvoxNums.loc[ba, col_name] = num\n",
    "            \n",
    "        \n",
    "        print(ba + ' : ' + str(num))\n",
    "        \n",
    "        i = i + 1\n",
    "        \n",
    "    # maskBAから得られたボクセル数を取得，結合しておく（重複のせいで増えてるっぽい）\n",
    "    BaNums_origin = pd.DataFrame(index = ['BrodmannAreaOriginal'], columns = col_name)\n",
    "    BaNums_origin.iloc[0,0] = len(BA)\n",
    "    BAvoxNums = pd.concat([BaNums_origin, BAvoxNums])\n",
    "        \n",
    "    PATH_BAvn = PATH_RAW + 'Number_of_BAvoxels.csv'\n",
    "    BAvoxNums.to_csv(PATH_BAvn)"
   ]
  },
  {
   "cell_type": "code",
   "execution_count": null,
   "metadata": {
    "collapsed": true
   },
   "outputs": [],
   "source": []
  },
  {
   "cell_type": "code",
   "execution_count": 65,
   "metadata": {},
   "outputs": [],
   "source": [
    "# chunk = chunks_list\n",
    "# target = targets_list\n",
    "# mask = PATH + 'rwmask27.nii'"
   ]
  },
  {
   "cell_type": "code",
   "execution_count": 66,
   "metadata": {},
   "outputs": [],
   "source": [
    "# dataset = fmri_dataset(nifti, targets=target, chunks=chunk, mask=mask ,sprefix='voxel', tprefix='time', add_fa=None)\n",
    "\n",
    "# print('dataset ready')\n",
    "\n",
    "# poly_detrend(dataset, polyord=1, chunks_attr='chunks')\n",
    "\n",
    "# dataset = dataset[np.array([l in ['0', '1']\n",
    "#                            for l in dataset.targets], dtype='bool')]"
   ]
  },
  {
   "cell_type": "code",
   "execution_count": 67,
   "metadata": {},
   "outputs": [],
   "source": [
    "# dataset"
   ]
  },
  {
   "cell_type": "code",
   "execution_count": null,
   "metadata": {
    "collapsed": true
   },
   "outputs": [],
   "source": []
  }
 ],
 "metadata": {
  "kernelspec": {
   "display_name": "Python 3",
   "language": "python",
   "name": "python3"
  },
  "language_info": {
   "codemirror_mode": {
    "name": "ipython",
    "version": 3
   },
   "file_extension": ".py",
   "mimetype": "text/x-python",
   "name": "python",
   "nbconvert_exporter": "python",
   "pygments_lexer": "ipython3",
   "version": "3.6.1"
  }
 },
 "nbformat": 4,
 "nbformat_minor": 2
}
