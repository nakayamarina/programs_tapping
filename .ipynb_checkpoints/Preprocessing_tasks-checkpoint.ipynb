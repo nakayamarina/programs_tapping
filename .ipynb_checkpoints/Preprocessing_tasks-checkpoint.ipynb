{
 "cells": [
  {
   "cell_type": "markdown",
   "metadata": {},
   "source": [
    "# 実験から得られたfMRIデータの前処理\n",
    "----  \n",
    "  \n",
    "引数：Y01.csv, Y02.csv,... の入ったVexelディレクトリがあるディレクトリまでのパス  \n",
    "  \n",
    "---  \n",
    "\n",
    "入力：Y01.csv, Y02.csv,...  \n",
    "  \n",
    "---  \n",
    "  \n",
    "出力：  \n",
    "* RawData/raw_all.csv : すべてのボクセルrest,tapping時のZ-scoreをまとめたもの\n",
    "* RawData/raw_rest.csv : rest時のZ-scoreだけをまとめたもの\n",
    "* RawData/raw_tapping.csv : tapping時のZ-scoreだけをまとめたもの  \n",
    "* RawData/Raw_image/voxel[ボクセル番号]_rest.png：rest時の各ボクセルのデータをプロットしたもの\n",
    "* RawData/Raw_image/voxel[ボクセル番号]_tapping.png：tapping時の各ボクセルのデータをプロットしたもの\n",
    "  \n",
    "[ボクセル番号]には列名にもあるボクセルの数\n",
    "  \n",
    "----\n",
    "\n",
    "\n",
    "/VoxelディレクトリのY01.csv, Y02.csv, ... のデータには，選択してきた数ボクセルそれぞれのZ-score（賦活度合いみたいなもの）が記録されている．  \n",
    " \n",
    "ここでは，全タスク，各タスクごとに分別した時系列データを得る．  \n",
    "  \n",
    "  "
   ]
  },
  {
   "cell_type": "code",
   "execution_count": 1,
   "metadata": {},
   "outputs": [
    {
     "name": "stdout",
     "output_type": "stream",
     "text": [
      "########## Preprocessing_state.py program excution ############\n"
     ]
    }
   ],
   "source": [
    "print('########## Preprocessing_state.py program excution ############')"
   ]
  },
  {
   "cell_type": "code",
   "execution_count": 3,
   "metadata": {
    "collapsed": true
   },
   "outputs": [],
   "source": [
    "import glob\n",
    "import sys\n",
    "import pandas as pd\n",
    "import matplotlib.pyplot as plt\n",
    "import os"
   ]
  },
  {
   "cell_type": "markdown",
   "metadata": {},
   "source": [
    "コマンドライン引数で/Voxelディレクトリがあるディレクトリまでのパスを取得"
   ]
  },
  {
   "cell_type": "code",
   "execution_count": 8,
   "metadata": {
    "collapsed": true
   },
   "outputs": [],
   "source": [
    "#args = sys.argv\n",
    "#PATH_pre = args[1]\n",
    "\n",
    "# jupyter notebookのときはここで指定\n",
    "PATH_pre = '../State-2fe_ActiveBrodmann/20181029rn/64ch/'\n",
    "\n",
    "# /Voxelディレクトリまでのパス\n",
    "PATH = PATH_pre + 'Voxel/'"
   ]
  },
  {
   "cell_type": "markdown",
   "metadata": {},
   "source": [
    "後で出力するcsvファイルを保存するディレクトリ（RawData）、pngファイルを保存するディレクトリ（Raw_image）を作成"
   ]
  },
  {
   "cell_type": "code",
   "execution_count": 9,
   "metadata": {},
   "outputs": [],
   "source": [
    "# RawDataのディレクトリ名・パス\n",
    "DIR_RAW = PATH + '../RawData'\n",
    "PATH_RAW = DIR_RAW + '/'\n",
    "\n",
    "# すでに存在する場合は何もせず，存在していない場合はディレクトリ作成\n",
    "if not os.path.exists(DIR_RAW):\n",
    "    os.mkdir(DIR_RAW)\n",
    "    \n",
    "# Raw_imageのディレクトリ名・パス\n",
    "DIR_image = PATH_RAW + 'Raw_image'\n",
    "PATH_image = DIR_image + '/'\n",
    "\n",
    "# すでに存在する場合は何もせず，存在していない場合はディレクトリ作成\n",
    "if not os.path.exists(DIR_image):\n",
    "    os.mkdir(DIR_image) \n",
    "    \n",
    "headcoil = PATH_pre.split('/')[3]\n",
    "\n",
    "# plotするなら1，plotしないなら0\n",
    "imgPlot = 1\n",
    "\n",
    "if headcoil == 'mb':\n",
    "    \n",
    "    # 1タスクのスキャン数\n",
    "    taskNum = 296\n",
    "    \n",
    "else :\n",
    "\n",
    "    # 1タスクのスキャン数\n",
    "    taskNum = 96\n"
   ]
  },
  {
   "cell_type": "markdown",
   "metadata": {},
   "source": [
    "## splitTask関数\n",
    "\n",
    "引数に１ブロックのscan数を受け取り，タスクごとにデータを分けてcsvファイルで書き出し"
   ]
  },
  {
   "cell_type": "code",
   "execution_count": 10,
   "metadata": {
    "collapsed": true
   },
   "outputs": [],
   "source": [
    "def splitTask(brain):\n",
    "\n",
    "    # 各タスクごとのマスク作成\n",
    "    maskRest = ([True] * taskNum) + ([False] * taskNum)\n",
    "    maskTapping = ([False] * taskNum) + ([True] * taskNum)\n",
    "    \n",
    "    # mask適用\n",
    "    dataRest = brain[maskRest]\n",
    "    dataTapping = brain[maskTapping]\n",
    "    \n",
    "    # csv書き出し\n",
    "    PATH_rest = PATH_RAW + 'raw_rest.csv'\n",
    "    dataRest.to_csv(PATH_rest, index = False)\n",
    "    \n",
    "    PATH_tapping = PATH_RAW + 'raw_tapping.csv'\n",
    "    dataTapping.to_csv(PATH_tapping, index = False)\n",
    "    \n",
    "    if imgPlot == 1:\n",
    "    \n",
    "        plotIMAGE(dataRest, 'rest')\n",
    "        plotIMAGE(dataTapping, 'tapping')\n"
   ]
  },
  {
   "cell_type": "markdown",
   "metadata": {},
   "source": [
    "## plotIMAGE関数\n"
   ]
  },
  {
   "cell_type": "code",
   "execution_count": 11,
   "metadata": {
    "collapsed": true
   },
   "outputs": [],
   "source": [
    "def plotIMAGE(data, task):\n",
    "    \n",
    "    # indexが連番になっていないのでreset_indexで番号を振り直す\n",
    "    # drop=Trueにしなければ古いindexが新しい列として追加されてしまう\n",
    "    data = data.reset_index(drop = True)\n",
    "    \n",
    "    # ボクセル（列）の数だけ繰り返す\n",
    "    for i in range(len(data.columns)):\n",
    "        \n",
    "        # この後に出力するpngファイル名\n",
    "        FILE_NAME = DIR_image + '/voxel' + str(i+1) + '_' + task + '.png'\n",
    "        \n",
    "        # データをplot\n",
    "        plt.plot(data.iloc[:, i], label = 'fMRIdata')\n",
    "        \n",
    "        # グラフのタイトル\n",
    "        graph_name = 'fMRIdata : ' + task + '-voxel' + str(i+1) \n",
    "        plt.title(graph_name)\n",
    "        plt.ylim([-5,5])\n",
    "        plt.ylabel('Z-score')\n",
    "        plt.xlabel('Time(scan)')\n",
    "        \n",
    "        # グラフの凡例\n",
    "        plt.legend()\n",
    "        \n",
    "        # ファイル名をつけて保存，終了\n",
    "        plt.savefig(FILE_NAME)\n",
    "        plt.close()\n",
    "        \n",
    "        print(FILE_NAME)"
   ]
  },
  {
   "cell_type": "markdown",
   "metadata": {},
   "source": [
    "## main関数 "
   ]
  },
  {
   "cell_type": "markdown",
   "metadata": {},
   "source": [
    "* fMRIデータ読み込み\n",
    "* 全ボクセルデータ連結\n",
    "* 全ボクセルデータをcsvで書き出し"
   ]
  },
  {
   "cell_type": "code",
   "execution_count": 12,
   "metadata": {
    "collapsed": true
   },
   "outputs": [],
   "source": [
    "if __name__ == '__main__':\n",
    "    # /Voxelディレクトリ内のcsvファイルのパスを取得\n",
    "    csv_file = PATH + '*.csv'\n",
    "    files = []\n",
    "    files = glob.glob(csv_file)\n",
    "    files.sort()"
   ]
  },
  {
   "cell_type": "code",
   "execution_count": 13,
   "metadata": {
    "collapsed": true
   },
   "outputs": [],
   "source": [
    "    # 1つ目のファイルを読み込む\n",
    "\n",
    "    # 列名\n",
    "    row_name = \"Voxel1\"\n",
    "\n",
    "    # 列名をつけてデータフレームとして読み込み（row_nameの後に','をつけることで1列だけ名前をつけることができる）\n",
    "    brain = pd.read_csv(files[0], names=(row_name,))\n"
   ]
  },
  {
   "cell_type": "code",
   "execution_count": 14,
   "metadata": {
    "collapsed": true
   },
   "outputs": [],
   "source": [
    "    # 同様に2つ目以降のファイルをデータフレームとして読み込み，1つ目のデータフレームに横連結\n",
    "    for i in range(1, len(files)):\n",
    "\n",
    "        row_name = \"Voxel\" + str(i+1)\n",
    "        data = pd.read_csv(files[i], names=(row_name,))\n",
    "        \n",
    "        brain = pd.concat([brain, data], axis = 1)\n",
    "        "
   ]
  },
  {
   "cell_type": "code",
   "execution_count": 15,
   "metadata": {},
   "outputs": [
    {
     "name": "stdout",
     "output_type": "stream",
     "text": [
      "../State-2fe_ActiveBrodmann/20181029rn/64ch/Voxel/../RawData/Raw_image/voxel1_rest.png\n",
      "../State-2fe_ActiveBrodmann/20181029rn/64ch/Voxel/../RawData/Raw_image/voxel2_rest.png\n",
      "../State-2fe_ActiveBrodmann/20181029rn/64ch/Voxel/../RawData/Raw_image/voxel3_rest.png\n",
      "../State-2fe_ActiveBrodmann/20181029rn/64ch/Voxel/../RawData/Raw_image/voxel4_rest.png\n",
      "../State-2fe_ActiveBrodmann/20181029rn/64ch/Voxel/../RawData/Raw_image/voxel5_rest.png\n",
      "../State-2fe_ActiveBrodmann/20181029rn/64ch/Voxel/../RawData/Raw_image/voxel6_rest.png\n",
      "../State-2fe_ActiveBrodmann/20181029rn/64ch/Voxel/../RawData/Raw_image/voxel7_rest.png\n",
      "../State-2fe_ActiveBrodmann/20181029rn/64ch/Voxel/../RawData/Raw_image/voxel8_rest.png\n",
      "../State-2fe_ActiveBrodmann/20181029rn/64ch/Voxel/../RawData/Raw_image/voxel1_tapping.png\n",
      "../State-2fe_ActiveBrodmann/20181029rn/64ch/Voxel/../RawData/Raw_image/voxel2_tapping.png\n",
      "../State-2fe_ActiveBrodmann/20181029rn/64ch/Voxel/../RawData/Raw_image/voxel3_tapping.png\n",
      "../State-2fe_ActiveBrodmann/20181029rn/64ch/Voxel/../RawData/Raw_image/voxel4_tapping.png\n",
      "../State-2fe_ActiveBrodmann/20181029rn/64ch/Voxel/../RawData/Raw_image/voxel5_tapping.png\n",
      "../State-2fe_ActiveBrodmann/20181029rn/64ch/Voxel/../RawData/Raw_image/voxel6_tapping.png\n",
      "../State-2fe_ActiveBrodmann/20181029rn/64ch/Voxel/../RawData/Raw_image/voxel7_tapping.png\n",
      "../State-2fe_ActiveBrodmann/20181029rn/64ch/Voxel/../RawData/Raw_image/voxel8_tapping.png\n"
     ]
    }
   ],
   "source": [
    "    splitTask(brain)"
   ]
  },
  {
   "cell_type": "code",
   "execution_count": null,
   "metadata": {
    "collapsed": true
   },
   "outputs": [],
   "source": []
  },
  {
   "cell_type": "code",
   "execution_count": null,
   "metadata": {
    "collapsed": true
   },
   "outputs": [],
   "source": []
  }
 ],
 "metadata": {
  "kernelspec": {
   "display_name": "Python 3",
   "language": "python",
   "name": "python3"
  },
  "language_info": {
   "codemirror_mode": {
    "name": "ipython",
    "version": 3
   },
   "file_extension": ".py",
   "mimetype": "text/x-python",
   "name": "python",
   "nbconvert_exporter": "python",
   "pygments_lexer": "ipython3",
   "version": "3.6.1"
  }
 },
 "nbformat": 4,
 "nbformat_minor": 2
}
