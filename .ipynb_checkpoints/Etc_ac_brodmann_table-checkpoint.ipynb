{
 "cells": [
  {
   "cell_type": "markdown",
   "metadata": {},
   "source": [
    "# 識別率の高いボクセルのブロードマンエリア特定"
   ]
  },
  {
   "cell_type": "markdown",
   "metadata": {},
   "source": [
    "----  \n",
    "  \n",
    "引数：識別率一覧/ボクセル-ブロードマンエリア対応表が記録されたcsvファイルがあるディレクトリまでのパス  \n",
    "  \n",
    "---  \n",
    "  \n",
    "入力：識別率一覧 ACCURACY[loo]_Voxtimseries30_SVM.csv / ボクセル-ブロードマンエリア対応表 Voxel_Brodmann_Table.csv  \n",
    "   \n",
    "---\n",
    "  \n",
    "出力：Accuracy_Brodmann_Table.csv \n",
    "  \n",
    "---  \n",
    "  \n",
    "各ボクセルがどのブロードマンエリアであるかを特定，識別率が高い順に並べ替える．  "
   ]
  },
  {
   "cell_type": "code",
   "execution_count": 1,
   "metadata": {
    "collapsed": true
   },
   "outputs": [],
   "source": [
    "from os.path import join as pathjoin\n",
    "from pprint import pprint\n",
    "# from nifti import NiftiImage\n",
    "import glob\n",
    "import numpy as np\n",
    "import pandas as pd\n",
    "import sys\n",
    "import pickle\n",
    "# import dill\n",
    "import csv"
   ]
  },
  {
   "cell_type": "code",
   "execution_count": 2,
   "metadata": {
    "collapsed": true
   },
   "outputs": [],
   "source": [
    "# args = sys.argv\n",
    "# PATH = args[1]\n",
    "\n",
    "#jupyter notebookのときはここで指定\n",
    "PATH = '../State-2fe_MaskBrodmann/20181029rn/mb/RawData/'\n",
    "\n",
    "# 識別率一覧を記録したcsvファイルへのパス\n",
    "PATH_ac = PATH + 'ACMID0[loo]_VOXtimeseries30_SVM.csv'\n",
    "\n",
    "# ボクセル-ブロードマンエリア対応表を記録したファイルへのパス\n",
    "PATH_tab = PATH + 'VoxelBrodmannTable.csv'"
   ]
  },
  {
   "cell_type": "code",
   "execution_count": 3,
   "metadata": {},
   "outputs": [
    {
     "ename": "NameError",
     "evalue": "name 'ac' is not defined",
     "output_type": "error",
     "traceback": [
      "\u001b[0;31m---------------------------------------------------------------------------\u001b[0m",
      "\u001b[0;31mNameError\u001b[0m                                 Traceback (most recent call last)",
      "\u001b[0;32m<ipython-input-3-63dade081476>\u001b[0m in \u001b[0;36m<module>\u001b[0;34m()\u001b[0m\n\u001b[1;32m      1\u001b[0m \u001b[0;31m# 識別率一覧を読み込み\u001b[0m\u001b[0;34m\u001b[0m\u001b[0;34m\u001b[0m\u001b[0m\n\u001b[1;32m      2\u001b[0m \u001b[0mbrainAc\u001b[0m \u001b[0;34m=\u001b[0m \u001b[0mpd\u001b[0m\u001b[0;34m.\u001b[0m\u001b[0mread_csv\u001b[0m\u001b[0;34m(\u001b[0m\u001b[0mPATH_ac\u001b[0m\u001b[0;34m,\u001b[0m \u001b[0mheader\u001b[0m \u001b[0;34m=\u001b[0m \u001b[0;36m0\u001b[0m\u001b[0;34m)\u001b[0m\u001b[0;34m\u001b[0m\u001b[0m\n\u001b[0;32m----> 3\u001b[0;31m \u001b[0mac\u001b[0m\u001b[0;34m.\u001b[0m\u001b[0mcolumns\u001b[0m \u001b[0;34m=\u001b[0m \u001b[0mbrainAc\u001b[0m\u001b[0;34m.\u001b[0m\u001b[0mcolumns\u001b[0m \u001b[0;34m=\u001b[0m \u001b[0;34m[\u001b[0m\u001b[0;34m'BAvoxelNum'\u001b[0m\u001b[0;34m,\u001b[0m \u001b[0;34m'accuracy(%)'\u001b[0m\u001b[0;34m]\u001b[0m\u001b[0;34m\u001b[0m\u001b[0m\n\u001b[0m",
      "\u001b[0;31mNameError\u001b[0m: name 'ac' is not defined"
     ]
    }
   ],
   "source": [
    "# 識別率一覧を読み込み\n",
    "brainAc = pd.read_csv(PATH_ac, header = 0)\n",
    "brainAc.columns = brainAc.columns = ['BAvoxelNum', 'accuracy(%)']"
   ]
  },
  {
   "cell_type": "code",
   "execution_count": null,
   "metadata": {
    "collapsed": true
   },
   "outputs": [],
   "source": [
    "# ボクセル-ブロードマンエリア対応表を読み込み\n",
    "tab = pd.read_csv(PATH_tab, header = 0)"
   ]
  },
  {
   "cell_type": "code",
   "execution_count": null,
   "metadata": {
    "collapsed": true
   },
   "outputs": [],
   "source": [
    "# acとtabをマージすることで各ボクセルのブロードマンエリアを特定\n",
    "AcTab = pd.merge(ac, tab, on = ['BAvoxelNum'], how = 'left')"
   ]
  },
  {
   "cell_type": "code",
   "execution_count": null,
   "metadata": {
    "collapsed": true
   },
   "outputs": [],
   "source": [
    "# BAvoxelNumとaccuracyを行名に設定することで(MultiIndex)重複を分かりやすくする\n",
    "# (一つのボクセルに対して複数のブロードマンエリアが対応していることがある）\n",
    "AcTab = AcTab.set_index(['BAvoxelNum', 'accuracy(%)'])"
   ]
  },
  {
   "cell_type": "code",
   "execution_count": null,
   "metadata": {
    "collapsed": true
   },
   "outputs": [],
   "source": [
    "# accuracyでソートすることで識別率の高い順に並べる\n",
    "# (MultiIndexの時は)levelでどのインデックスでソートするか指定，ascending = Falseとすることで昇順に\n",
    "AcTab = AcTab.sort_index(level = 'accuracy(%)', ascending = False)"
   ]
  },
  {
   "cell_type": "code",
   "execution_count": null,
   "metadata": {},
   "outputs": [],
   "source": [
    "AcTab"
   ]
  },
  {
   "cell_type": "code",
   "execution_count": null,
   "metadata": {
    "collapsed": true
   },
   "outputs": [],
   "source": []
  },
  {
   "cell_type": "code",
   "execution_count": null,
   "metadata": {
    "collapsed": true
   },
   "outputs": [],
   "source": []
  }
 ],
 "metadata": {
  "kernelspec": {
   "display_name": "Python 3",
   "language": "python",
   "name": "python3"
  }
 },
 "nbformat": 4,
 "nbformat_minor": 2
}
