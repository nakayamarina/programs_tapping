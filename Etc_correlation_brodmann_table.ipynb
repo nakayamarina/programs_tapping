{
 "cells": [
  {
   "cell_type": "markdown",
   "metadata": {},
   "source": [
    "# 相関の高いボクセルのブロードマンエリア特定"
   ]
  },
  {
   "cell_type": "markdown",
   "metadata": {},
   "source": [
    "----  \n",
    "  \n",
    "引数：相関の高い順に並べたcsvファイル/ボクセル-ブロードマンエリア対応表が記録されたcsvファイルがあるディレクトリまでのパス  \n",
    "  \n",
    "---  \n",
    "  \n",
    "入力：correlationmap.csv / ボクセル-ブロードマンエリア対応表 Voxel_Brodmann_Table.csv  \n",
    "   \n",
    "---\n",
    "  \n",
    "出力：correlation_BA.csv \n",
    "  \n",
    "---  \n",
    "  \n",
    "相関の高いボクセルがどのブロードマンエリアのものか特定．  "
   ]
  },
  {
   "cell_type": "code",
   "execution_count": 15,
   "metadata": {
    "collapsed": true
   },
   "outputs": [],
   "source": [
    "from os.path import join as pathjoin\n",
    "from pprint import pprint\n",
    "# from nifti import NiftiImage\n",
    "import glob\n",
    "import numpy as np\n",
    "import pandas as pd\n",
    "import sys\n",
    "import pickle\n",
    "# import dill\n",
    "import csv\n",
    "\n",
    "# .pyで実行するときは%matplotlib inlineをコメントアウト！！！！\n",
    "import matplotlib.pyplot as plt\n",
    "%matplotlib inline"
   ]
  },
  {
   "cell_type": "code",
   "execution_count": 16,
   "metadata": {
    "collapsed": true
   },
   "outputs": [],
   "source": [
    "####### vecName,tsscan書き換え\n",
    "\n",
    "# args = sys.argv\n",
    "# PATH = args[1]\n",
    "\n",
    "#jupyter notebookのときはここで指定\n",
    "PATH = '../State-2fe_MaskBrodmann/'\n",
    "\n",
    "\n",
    "Subject = ['20181029rn', '20181029tm', '20181029su']\n",
    "\n",
    "# 各被験者ごとのRawDataディレクトリまでのパス\n",
    "\n",
    "PATH_raw = []\n",
    "\n",
    "for subName in Subject:\n",
    "    \n",
    "    PATH_raw = PATH_raw + [PATH + subName + '/mb/RawData/']"
   ]
  },
  {
   "cell_type": "code",
   "execution_count": 17,
   "metadata": {},
   "outputs": [
    {
     "name": "stdout",
     "output_type": "stream",
     "text": [
      "../State-2fe_MaskBrodmann/20181029rn/mb/RawData/\n",
      "../State-2fe_MaskBrodmann/20181029rn/mb/RawData/correlation_BA.csv\n",
      "../State-2fe_MaskBrodmann/20181029tm/mb/RawData/\n",
      "../State-2fe_MaskBrodmann/20181029tm/mb/RawData/correlation_BA.csv\n",
      "../State-2fe_MaskBrodmann/20181029su/mb/RawData/\n",
      "../State-2fe_MaskBrodmann/20181029su/mb/RawData/correlation_BA.csv\n"
     ]
    }
   ],
   "source": [
    "for sub in PATH_raw:\n",
    "    \n",
    "    print(sub)\n",
    "\n",
    "    # 相関の高い順にボクセルを並べたcsvファイルへのパス\n",
    "    PATH_cor = sub + 'correlationmap.csv'\n",
    "    \n",
    "    # 読み込み\n",
    "    cor = pd.read_csv(PATH_cor, header = 0)\n",
    "\n",
    "    cor.columns = ['BAvoxelNum', 'correlation']\n",
    "    \n",
    "    # ボクセル-ブロードマンエリア対応表を記録したファイルへのパス\n",
    "    PATH_tab = sub + 'VoxelBrodmannTable.csv'\n",
    "\n",
    "    # ボクセル-ブロードマンエリア対応表を読み込み\n",
    "    tab = pd.read_csv(PATH_tab, header = 0)\n",
    "\n",
    "    # corとtabをマージすることで各ボクセルのブロードマンエリアを特定\n",
    "    corTab = pd.merge(cor, tab, on = ['BAvoxelNum'], how = 'left')\n",
    "    \n",
    "    # ランキング番号(インデックスの連番)を列に加える\n",
    "    \n",
    "    # 元のカラム名を保持しておく\n",
    "    before = corTab.columns\n",
    "    \n",
    "    # インデックスを列として追加する\n",
    "    corTab = corTab.reset_index()\n",
    "    \n",
    "    # カラム名を振り直す\n",
    "    after = ['Rank'] + list(before)\n",
    "    corTab.columns = after\n",
    "\n",
    "    # 連番は0から始まっているので1から始まるように+1しておく\n",
    "    corTab['Rank'] = corTab['Rank'] + 1\n",
    "    \n",
    "    # BAvoxelNumをインデックスに設定\n",
    "    corTab = corTab.set_index(['BAvoxelNum'])\n",
    "\n",
    "    \n",
    "    PATH_csv = sub + 'correlation_BA.csv'\n",
    "    print(PATH_csv)\n",
    "    corTab.to_csv(PATH_csv)"
   ]
  },
  {
   "cell_type": "code",
   "execution_count": null,
   "metadata": {
    "collapsed": true
   },
   "outputs": [],
   "source": []
  },
  {
   "cell_type": "code",
   "execution_count": 55,
   "metadata": {
    "collapsed": true
   },
   "outputs": [],
   "source": [
    "# looと10分割cvの比較"
   ]
  },
  {
   "cell_type": "code",
   "execution_count": 22,
   "metadata": {
    "collapsed": true
   },
   "outputs": [],
   "source": [
    "# loo = pd.read_csv('../MaskBrodmann2/20181119tm/RawData/AcVoxelBrodmannTable.csv', header = 0, index_col = None)"
   ]
  },
  {
   "cell_type": "code",
   "execution_count": 23,
   "metadata": {
    "collapsed": true
   },
   "outputs": [],
   "source": [
    "# cv10 = pd.read_csv('../MaskBrodmann2/20181119tm/RawData/AcVoxelBrodmannTable10cv.csv', header = 0, index_col = None)"
   ]
  },
  {
   "cell_type": "code",
   "execution_count": 12,
   "metadata": {
    "collapsed": true
   },
   "outputs": [],
   "source": [
    "# pd.merge(loo, cv10, on = ['BAvoxelNum'], how = 'right')"
   ]
  },
  {
   "cell_type": "code",
   "execution_count": null,
   "metadata": {
    "collapsed": true
   },
   "outputs": [],
   "source": [
    " "
   ]
  }
 ],
 "metadata": {
  "kernelspec": {
   "display_name": "Python 3",
   "language": "python",
   "name": "python3"
  },
  "language_info": {
   "codemirror_mode": {
    "name": "ipython",
    "version": 3
   },
   "file_extension": ".py",
   "mimetype": "text/x-python",
   "name": "python",
   "nbconvert_exporter": "python",
   "pygments_lexer": "ipython3",
   "version": "3.6.1"
  }
 },
 "nbformat": 4,
 "nbformat_minor": 2
}
