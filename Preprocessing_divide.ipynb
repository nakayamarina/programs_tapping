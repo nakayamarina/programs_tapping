{
 "cells": [
  {
   "cell_type": "markdown",
   "metadata": {},
   "source": [
    "## fMRI時系列データを区切る前処理  \n",
    "----  \n",
    "  \n",
    "引数：raw_tapping.csv/raw_rest.csvがあるディレクトリまでのパス，分割数\n",
    "  \n",
    "----\n",
    "  \n",
    "入力：raw_tapping.csv/raw_rest.csv  \n",
    "  \n",
    "----\n",
    "  \n",
    "出力： /(分割数)divData/div_tapping.csv, /(分割数)divData/div_rest.csv\n",
    "  \n",
    "----\n",
    "\n",
    "State Designで計測したfMRIデータを数ブロックに区切る．（ボクセルごとに識別率を算出するため）"
   ]
  },
  {
   "cell_type": "code",
   "execution_count": 4,
   "metadata": {},
   "outputs": [
    {
     "name": "stdout",
     "output_type": "stream",
     "text": [
      "########### Preprocessing_divided.py program excution ##########\n"
     ]
    }
   ],
   "source": [
    "print('########### Preprocessing_divided.py program excution ##########')"
   ]
  },
  {
   "cell_type": "code",
   "execution_count": 5,
   "metadata": {
    "collapsed": true
   },
   "outputs": [],
   "source": [
    "import glob\n",
    "import sys\n",
    "import pandas as pd\n",
    "import matplotlib.pyplot as plt\n",
    "import os"
   ]
  },
  {
   "cell_type": "markdown",
   "metadata": {},
   "source": [
    "コマンドライン引数でraw_tapping.csv/raw_rest.csvがあるディレクトリまでのパスと分割数を取得"
   ]
  },
  {
   "cell_type": "code",
   "execution_count": 6,
   "metadata": {
    "collapsed": true
   },
   "outputs": [],
   "source": [
    "#args = sys.argvs\n",
    "#PATH = args[1]\n",
    "#divNum = int(args[2])\n",
    "\n",
    "# jupyter notebookのときはここで指定\n",
    "PATH = '../State-2fe_ActiveBrodmann/20181029rn/64ch/RawData/'\n",
    "divNum = 8\n"
   ]
  },
  {
   "cell_type": "markdown",
   "metadata": {},
   "source": [
    "後で出力するcsvファイルを保存するディレクトリを作成"
   ]
  },
  {
   "cell_type": "code",
   "execution_count": 7,
   "metadata": {},
   "outputs": [],
   "source": [
    "# 作成したいディレクトリ名・パス\n",
    "DIR_div = PATH + '../' + str(divNum) + 'divData'\n",
    "PATH_div = DIR_div + '/' \n",
    "\n",
    "# 既に存在する場合は何もせず，存在していない場合はディレクトリ作成\n",
    "if not os.path.exists(DIR_div):\n",
    "    os.mkdir(DIR_div)"
   ]
  },
  {
   "cell_type": "markdown",
   "metadata": {},
   "source": [
    "# DataDiv関数  \n",
    "引数としてボクセルの時系列fMRIデータをvoxで受け取る.  \n",
    "divNum(分割数)に応じて一つの時系列fMRIデータを分割し，横結合することで新しいデータフレームを生成．"
   ]
  },
  {
   "cell_type": "code",
   "execution_count": 8,
   "metadata": {
    "collapsed": true
   },
   "outputs": [],
   "source": [
    "def DataDiv(vox):\n",
    "    \n",
    "    # ボクセルのfMRIデータをdivNum分割したデータ格納用データフレーム\n",
    "    voxData = pd.DataFrame(index = [], columns = [])\n",
    "\n",
    "    # divNum分割した時の1ブロックあたりのscan数\n",
    "    divScan = len(vox) // divNum\n",
    "\n",
    "    for i in range(divNum):\n",
    "        \n",
    "        # データを分割\n",
    "        divVox = vox.iloc[(divScan*i):(divScan*(i+1))]\n",
    "        \n",
    "        # データフレームに結合するためには行名を合わせとく必要があるので連番を行名とする\n",
    "        divVox.index = range(divScan)\n",
    "        \n",
    "        # 新しいデータフレームに追加\n",
    "        voxData = pd.concat([voxData, divVox], axis = 1)\n",
    "        \n",
    "    return voxData"
   ]
  },
  {
   "cell_type": "markdown",
   "metadata": {},
   "source": [
    "# main関数"
   ]
  },
  {
   "cell_type": "code",
   "execution_count": 9,
   "metadata": {},
   "outputs": [],
   "source": [
    "if __name__ == '__main__':\n",
    "    \n",
    "    # 読み込みたいファイルのパス\n",
    "    PATH_rest = PATH + 'raw_rest.csv'\n",
    "    PATH_tap = PATH + 'raw_tapping.csv'\n",
    "    \n",
    "    # csvファイル読み込み\n",
    "    rest = pd.read_csv(PATH_rest, header = 0)\n",
    "    tap = pd.read_csv(PATH_tap, header = 0)\n",
    "    "
   ]
  },
  {
   "cell_type": "code",
   "execution_count": 10,
   "metadata": {},
   "outputs": [
    {
     "name": "stdout",
     "output_type": "stream",
     "text": [
      "Voxel1\n",
      "Voxel2\n",
      "Voxel3\n",
      "Voxel4\n",
      "Voxel5\n",
      "Voxel6\n",
      "Voxel7\n",
      "Voxel8\n"
     ]
    }
   ],
   "source": [
    "    # rest時の全ボクセルをdivNum分割してまとめたデータ格納用データフレーム\n",
    "    restData = pd.DataFrame(index = [], columns = [])\n",
    "    \n",
    "    for i in rest.columns:\n",
    "        \n",
    "        print(i)\n",
    "        \n",
    "        # ボクセルごとにdivNum分割\n",
    "        restVox = DataDiv(rest[i])\n",
    "        \n",
    "        # 全ボクセルをまとめていく\n",
    "        restData = pd.concat([restData, restVox], axis = 1)\n"
   ]
  },
  {
   "cell_type": "code",
   "execution_count": 11,
   "metadata": {
    "collapsed": true
   },
   "outputs": [],
   "source": [
    "    # csv書きだし\n",
    "    PATH_rest = PATH_div + 'div_rest.csv'\n",
    "    restData.to_csv(PATH_rest, index = False)"
   ]
  },
  {
   "cell_type": "code",
   "execution_count": 13,
   "metadata": {},
   "outputs": [
    {
     "name": "stdout",
     "output_type": "stream",
     "text": [
      "Voxel1\n",
      "Voxel2\n",
      "Voxel3\n",
      "Voxel4\n",
      "Voxel5\n",
      "Voxel6\n",
      "Voxel7\n",
      "Voxel8\n"
     ]
    }
   ],
   "source": [
    "    # tapping時の全ボクセルをdivNum分割してまとめたデータ格納用データフレーム\n",
    "    tapData = pd.DataFrame(index = [], columns = [])\n",
    "    \n",
    "    for i in tap.columns:\n",
    "        \n",
    "        print(i)\n",
    "        \n",
    "        # ボクセルごとにdivNum分割\n",
    "        tapVox = DataDiv(tap[i])\n",
    "        \n",
    "        # 全ボクセルをまとめていく\n",
    "        tapData = pd.concat([tapData, tapVox], axis = 1)"
   ]
  },
  {
   "cell_type": "code",
   "execution_count": 14,
   "metadata": {
    "collapsed": true
   },
   "outputs": [],
   "source": [
    "    # csv書きだし\n",
    "    PATH_tap = PATH_div + 'div_tapping.csv'\n",
    "    tapData.to_csv(PATH_tap, index = False)"
   ]
  },
  {
   "cell_type": "code",
   "execution_count": null,
   "metadata": {
    "collapsed": true
   },
   "outputs": [],
   "source": []
  }
 ],
 "metadata": {
  "kernelspec": {
   "display_name": "Python 3",
   "language": "python",
   "name": "python3"
  },
  "language_info": {
   "codemirror_mode": {
    "name": "ipython",
    "version": 3
   },
   "file_extension": ".py",
   "mimetype": "text/x-python",
   "name": "python",
   "nbconvert_exporter": "python",
   "pygments_lexer": "ipython3",
   "version": "3.6.1"
  }
 },
 "nbformat": 4,
 "nbformat_minor": 2
}
