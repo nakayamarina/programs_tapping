{
 "cells": [
  {
   "cell_type": "markdown",
   "metadata": {},
   "source": [
    "# 全ボクセルファイルから指定ボクセルのみのZ-scoreを抽出\n",
    "----\n",
    "\n",
    "引数：raw_rest.csv/raw_tapping.csvがあるディレクトリまでのパス\n",
    "\n",
    "----\n",
    "\n",
    "入力：raw_rest.csv/raw_tapping.csv/ボクセルをランク順位にしたcsvファイル/指定するボクセル数(k)\n",
    "\n",
    "----\n",
    "\n",
    "出力：  \n",
    "* (指定するボクセル数(k))vox_RawData/raw_rest.csv：指定したボクセルにおける45度の斜め線動画呈示時のZ-score\n",
    "* (指定するボクセル数(k))vox_RawData/raw_tapping.csv：指定したボクセルにおける135度の斜め線動画呈示時のZ-score\n",
    "----\n",
    "  \n",
    "ボクセルをランク順にしたファイル(correlationmap.csvやACCURACY_BA...csv)をから上位k個のボクセル名を取得する．  \n",
    "取得したボクセル名と一致するものをrawファイルから探し，Z-scoreを抽出する．この時のデータは新しく作ったディレクトリに保存する．\n"
   ]
  },
  {
   "cell_type": "code",
   "execution_count": 5,
   "metadata": {},
   "outputs": [
    {
     "name": "stdout",
     "output_type": "stream",
     "text": [
      "########## Preprocessing_topVoxels.py program excution ############\n"
     ]
    }
   ],
   "source": [
    "print('########## Preprocessing_topVoxels.py program excution ############')"
   ]
  },
  {
   "cell_type": "code",
   "execution_count": 6,
   "metadata": {
    "collapsed": true
   },
   "outputs": [],
   "source": [
    "import glob\n",
    "import sys\n",
    "import pandas as pd\n",
    "import matplotlib.pyplot as plt\n",
    "import os\n",
    "import numpy as np"
   ]
  },
  {
   "cell_type": "code",
   "execution_count": 7,
   "metadata": {
    "collapsed": true
   },
   "outputs": [],
   "source": [
    "# args = sys.argv\n",
    "# PATH_pre = args[1]\n",
    "\n",
    "# jupyter notebookのときはここで指定\n",
    "PATH_pre = '../State-2fe_SpmActive/20181029rn/mb/RawData/'\n",
    "\n",
    "# 何ボクセル取得するか\n",
    "k_list = [4, 6]\n"
   ]
  },
  {
   "cell_type": "code",
   "execution_count": 8,
   "metadata": {
    "collapsed": true
   },
   "outputs": [],
   "source": [
    "# ボクセルをランク順にしたファイル名\n",
    "rankFile = 'correlationmap.csv'\n",
    "\n",
    "# なんのランクか\n",
    "rankName = 'COR'"
   ]
  },
  {
   "cell_type": "markdown",
   "metadata": {},
   "source": [
    "# extraction_vox関数\n",
    "もとのrawファイルに記録されているZ-scoreをdata，上位k個のボクセル名をインデックスとしたデータフレームをrank_k，タスク名をtask，新しいRawDataのディレクトリのパスをpathで取得．  \n",
    "上位k個に含まれるボクセルのZ-scoreを抽出，csvファイル書き出し"
   ]
  },
  {
   "cell_type": "code",
   "execution_count": 9,
   "metadata": {
    "collapsed": true
   },
   "outputs": [],
   "source": [
    "def extraction_vox(data, rank_k, task, path):\n",
    "    \n",
    "\n",
    "    # インデックスでmergeすることで，dataとrank_kの共通インデックスのみを抽出\n",
    "    data_k = pd.merge(data, rank_k, left_index = True, right_index = True)\n",
    "\n",
    "    # もとのrawファイルと同様の形にするため転地\n",
    "    data_k = data_k.T\n",
    "    \n",
    "    # csv書き出し\n",
    "    PATH_file = path + task\n",
    "    print(PATH_file)\n",
    "    \n",
    "    data_k.to_csv(PATH_file)"
   ]
  },
  {
   "cell_type": "markdown",
   "metadata": {},
   "source": [
    "# main関数"
   ]
  },
  {
   "cell_type": "code",
   "execution_count": 10,
   "metadata": {},
   "outputs": [],
   "source": [
    "if __name__ == '__main__':\n",
    "\n",
    "    # 読み込みたいファイルのパス\n",
    "    rest_name = 'raw_rest.csv'\n",
    "    PATH_rest = PATH_pre + rest_name\n",
    "\n",
    "    tapping_name = 'raw_tapping.csv'\n",
    "    PATH_tapping = PATH_pre + tapping_name\n",
    "\n",
    "    # csvファイル読み込み\n",
    "    # headerは設定せず，転置後にset_index()する（header = 0にすると列名が変えられる）\n",
    "    rest = pd.read_csv(PATH_rest, header = None, index_col = 0).T\n",
    "    rest.columns = range(0, len(rest.columns))\n",
    "    rest = rest.set_index(0)\n",
    "\n",
    "    tapping = pd.read_csv(PATH_tapping, header = None, index_col = 0).T\n",
    "    tapping.columns = range(0, len(tapping.columns))\n",
    "    tapping = tapping.set_index(0)\n",
    "\n",
    "    # ボクセルをランク順にしたファイル\n",
    "    PATH_rank = PATH_pre + rankFile\n",
    "    rank = pd.read_csv(PATH_rank, index_col = 0)\n"
   ]
  },
  {
   "cell_type": "code",
   "execution_count": 11,
   "metadata": {},
   "outputs": [
    {
     "name": "stdout",
     "output_type": "stream",
     "text": [
      "k = 4\n",
      "../State-2fe_SpmActive/20181029rn/mb/RawData/../COR4vox_RawData/raw_rest.csv\n",
      "../State-2fe_SpmActive/20181029rn/mb/RawData/../COR4vox_RawData/raw_tapping.csv\n",
      "k = 6\n",
      "../State-2fe_SpmActive/20181029rn/mb/RawData/../COR6vox_RawData/raw_rest.csv\n",
      "../State-2fe_SpmActive/20181029rn/mb/RawData/../COR6vox_RawData/raw_tapping.csv\n"
     ]
    }
   ],
   "source": [
    "for k in (k_list):\n",
    "    \n",
    "    print('k = ' + str(k))\n",
    "    \n",
    "    # 新しいRawDataのディレクトリ名・パス\n",
    "    DIR = PATH_pre + '../' + rankName + str(k) + 'vox_RawData'\n",
    "    PATH = DIR + '/'\n",
    "\n",
    "    # すでに存在する場合は何もせず，存在していない場合はディレクトリ作成\n",
    "    if not os.path.exists(DIR):\n",
    "        os.mkdir(DIR)\n",
    "        \n",
    "\n",
    "    # 上位k個のボクセル名をデータフレームのインデックスとして取得\n",
    "    # ボクセル名のみが欲しい，データフレームの要素は不要\n",
    "    rank_k = rank.iloc[0:k, :]\n",
    "    rank_k = pd.DataFrame(index = list(rank_k.index), columns = [])\n",
    "    \n",
    "    # extraction_vox関数\n",
    "    extraction_vox(rest, rank_k, rest_name, PATH)\n",
    "    extraction_vox(tapping, rank_k, tapping_name, PATH)"
   ]
  },
  {
   "cell_type": "code",
   "execution_count": null,
   "metadata": {},
   "outputs": [],
   "source": []
  },
  {
   "cell_type": "code",
   "execution_count": null,
   "metadata": {
    "collapsed": true
   },
   "outputs": [],
   "source": []
  }
 ],
 "metadata": {
  "kernelspec": {
   "display_name": "Python 3",
   "language": "python",
   "name": "python3"
  },
  "language_info": {
   "codemirror_mode": {
    "name": "ipython",
    "version": 3
   },
   "file_extension": ".py",
   "mimetype": "text/x-python",
   "name": "python",
   "nbconvert_exporter": "python",
   "pygments_lexer": "ipython3",
   "version": "3.6.1"
  }
 },
 "nbformat": 4,
 "nbformat_minor": 2
}
