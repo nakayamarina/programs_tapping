{
 "cells": [
  {
   "cell_type": "markdown",
   "metadata": {},
   "source": [
    "# SVMによる相関の高いボクセルを用いた学習と性能評価（多変量解析）\n",
    "----\n",
    "\n",
    "引数：raw_rest.csv/raw_tapping.csvがあるディレクトリまでのパス\n",
    "\n",
    "----\n",
    "\n",
    "入力：raw_rest.csv/raw_tapping.csv\n",
    "\n",
    "----\n",
    "\n",
    "出力：ACCURACY[loo or k_cv]_CORmultivariate_SVM.csv ボクセルごとの識別性能評価結果一覧\n",
    "\n",
    "----\n",
    "\n",
    "相関の高いボクセルを用いて多変量解析を行う．  \n",
    "k分割交差検証法により1グループをテストデータの，k-1グループを教師データとし，SVMを用いて学習，精度評価．   \n",
    "ベクトル：各ボクセルにおけるある時刻のZ-score（ボクセル数ベクトル）"
   ]
  },
  {
   "cell_type": "code",
   "execution_count": 1,
   "metadata": {},
   "outputs": [
    {
     "name": "stdout",
     "output_type": "stream",
     "text": [
      "############ ML_SVM_CORvariate_kCV.py program excution ############\n"
     ]
    }
   ],
   "source": [
    "print('############ ML_SVM_CORvariate_kCV.py program excution ############')"
   ]
  },
  {
   "cell_type": "code",
   "execution_count": 2,
   "metadata": {},
   "outputs": [
    {
     "name": "stderr",
     "output_type": "stream",
     "text": [
      "/Users/nakayamarina/.pyenv/versions/anaconda3-4.4.0/lib/python3.6/site-packages/sklearn/cross_validation.py:41: DeprecationWarning: This module was deprecated in version 0.18 in favor of the model_selection module into which all the refactored classes and functions are moved. Also note that the interface of the new CV iterators are different from that of this module. This module will be removed in 0.20.\n",
      "  \"This module will be removed in 0.20.\", DeprecationWarning)\n"
     ]
    }
   ],
   "source": [
    "import numpy as np\n",
    "import pandas as pd\n",
    "import sys\n",
    "from sklearn import cross_validation\n",
    "from sklearn import svm\n",
    "from sklearn.model_selection import train_test_split"
   ]
  },
  {
   "cell_type": "code",
   "execution_count": 86,
   "metadata": {
    "collapsed": true
   },
   "outputs": [],
   "source": [
    "#args = sys.argv\n",
    "#PATH = args[1]\n",
    "\n",
    "# jupyter notebookのときはここで指定\n",
    "PATH = '../State-2fe_MaskBrodmann/20181029tm/mb/COR10vox_RawData/'\n",
    "\n",
    "# 検証手法\n",
    "kCV = 10\n",
    "\n",
    "# 検証手法\n",
    "col_name = str(kCV) + 'CV'"
   ]
  },
  {
   "cell_type": "markdown",
   "metadata": {},
   "source": [
    "## SVM_kCV関数\n",
    "引数としてデータをX，ラベルをyで受け取る．  \n",
    "交差検証法の一つk分割交差検証法で識別精度評価を行う．  "
   ]
  },
  {
   "cell_type": "code",
   "execution_count": 87,
   "metadata": {
    "collapsed": true
   },
   "outputs": [],
   "source": [
    "def SVM_kCV(X, y):\n",
    "    \n",
    "    # 線形SVMのインスタンスを生成\n",
    "    model = svm.SVC(kernel = 'linear', C = 1)\n",
    "    \n",
    "    # k分割し，1グループをテストデータ，残りグループを教師データにして評価\n",
    "    # すべてのグループに対して行う\n",
    "    # 評価結果（識別率）を格納\n",
    "    CVscore = cross_validation.cross_val_score(model, X, y, cv = kCV)\n",
    "    \n",
    "    # 評価結果（識別率）の平均を求める\n",
    "    result = CVscore.mean()\n",
    "    \n",
    "    # パーセントに直す\n",
    "    result = round(result * 100, 1)\n",
    "\n",
    "    print('k = ' + str(kCV) + '：' + str(CVscore))\n",
    "    \n",
    "    return result"
   ]
  },
  {
   "cell_type": "markdown",
   "metadata": {},
   "source": [
    "# main関数"
   ]
  },
  {
   "cell_type": "code",
   "execution_count": 88,
   "metadata": {
    "collapsed": true
   },
   "outputs": [],
   "source": [
    "if __name__ == '__main__':\n",
    "    \n",
    "    # 読み込みたいファイルのパス\n",
    "    PATH_rest = PATH + 'raw_rest.csv'\n",
    "    PATH_tapping = PATH + 'raw_tapping.csv'\n",
    "    \n",
    "    # csvファイル読み込み\n",
    "    # headerは設定せず，転置後にset_index()する（header = 0にすると列名が変えられる）\n",
    "    rest = pd.read_csv(PATH_rest, header = 0, index_col = 0)\n",
    "    \n",
    "    tapping = pd.read_csv(PATH_tapping, header = 0, index_col = 0)"
   ]
  },
  {
   "cell_type": "code",
   "execution_count": 89,
   "metadata": {
    "collapsed": true
   },
   "outputs": [],
   "source": [
    "    # 各タスクのデータを結合\n",
    "    all_data = pd.concat([rest, tapping], axis = 0)\n",
    "    \n",
    "    # ベクトル化\n",
    "    X = all_data.as_matrix()"
   ]
  },
  {
   "cell_type": "code",
   "execution_count": 90,
   "metadata": {
    "collapsed": true
   },
   "outputs": [],
   "source": [
    "    # ラベル作成 rest = 0, tapping = 1\n",
    "    label_rest = np.zeros(len(rest))\n",
    "    label_tapping = np.ones(len(tapping))\n",
    "    \n",
    "    y = np.r_[label_rest, label_tapping]"
   ]
  },
  {
   "cell_type": "code",
   "execution_count": 91,
   "metadata": {},
   "outputs": [
    {
     "name": "stdout",
     "output_type": "stream",
     "text": [
      "k = 10：[ 0.25        0.01666667  0.4         0.58333333  0.58333333  0.46666667\n",
      "  0.44827586  0.4137931   0.25862069  0.24137931]\n",
      "36.6\n"
     ]
    }
   ],
   "source": [
    "    # 学習と評価\n",
    "    result = SVM_kCV(X, y)\n",
    "    print(result)"
   ]
  },
  {
   "cell_type": "code",
   "execution_count": 92,
   "metadata": {},
   "outputs": [],
   "source": [
    "    # データフレーム化する際のインデックス名作成\n",
    "    index_name = str(rest.shape[1]) + 'voxels'\n",
    "    \n",
    "    # データフレーム化\n",
    "    result_df = pd.DataFrame({col_name:[result]}, index = [index_name])"
   ]
  },
  {
   "cell_type": "code",
   "execution_count": 93,
   "metadata": {},
   "outputs": [],
   "source": [
    "    # csv書き出し\n",
    "    PATH_RESULT = PATH + 'ACCURACY[' + str(kCV) + 'CV]_CORmultivariate' + '_SVM.csv'\n",
    "    result_df.to_csv(PATH_RESULT)"
   ]
  },
  {
   "cell_type": "code",
   "execution_count": null,
   "metadata": {
    "collapsed": true
   },
   "outputs": [],
   "source": []
  }
 ],
 "metadata": {
  "kernelspec": {
   "display_name": "Python 3",
   "language": "python",
   "name": "python3"
  },
  "language_info": {
   "codemirror_mode": {
    "name": "ipython",
    "version": 3
   },
   "file_extension": ".py",
   "mimetype": "text/x-python",
   "name": "python",
   "nbconvert_exporter": "python",
   "pygments_lexer": "ipython3",
   "version": "3.6.1"
  }
 },
 "nbformat": 4,
 "nbformat_minor": 2
}
