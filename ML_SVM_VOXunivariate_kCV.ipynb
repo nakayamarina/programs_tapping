{
 "cells": [
  {
   "cell_type": "markdown",
   "metadata": {},
   "source": [
    "# SVMによるボクセルごとの学習と性能評価（単変量解析）\n",
    "----\n",
    "\n",
    "引数：raw_rest.csv/raw_tapping.csvがあるディレクトリまでのパス\n",
    "\n",
    "----\n",
    "\n",
    "入力：raw_rest.csv/raw_tapping.csv\n",
    "\n",
    "----\n",
    "\n",
    "出力：ACCURACY[loo or k_cv]_VOXunivariate_SVM.csv ボクセルごとの識別性能評価結果一覧\n",
    "\n",
    "----\n",
    "\n",
    "ボクセルごとに単変量解析を行う．  \n",
    "k分割交差検証法により1グループをテストデータの，k-1グループを教師データとし，SVMを用いて学習，精度評価． \n",
    "ベクトル：各ボクセルにおけるある時刻のZ-score（1ベクトル）"
   ]
  },
  {
   "cell_type": "code",
   "execution_count": 1,
   "metadata": {},
   "outputs": [
    {
     "name": "stdout",
     "output_type": "stream",
     "text": [
      "############ ML_SVM_VOXunivariate_kCV.py program excution ############\n"
     ]
    }
   ],
   "source": [
    "print('############ ML_SVM_VOXunivariate_kCV.py program excution ############')"
   ]
  },
  {
   "cell_type": "code",
   "execution_count": 2,
   "metadata": {},
   "outputs": [
    {
     "name": "stderr",
     "output_type": "stream",
     "text": [
      "/Users/nakayamarina/.pyenv/versions/anaconda3-4.4.0/lib/python3.6/site-packages/sklearn/cross_validation.py:41: DeprecationWarning: This module was deprecated in version 0.18 in favor of the model_selection module into which all the refactored classes and functions are moved. Also note that the interface of the new CV iterators are different from that of this module. This module will be removed in 0.20.\n",
      "  \"This module will be removed in 0.20.\", DeprecationWarning)\n"
     ]
    }
   ],
   "source": [
    "import numpy as np\n",
    "import pandas as pd\n",
    "import sys\n",
    "from sklearn import cross_validation\n",
    "from sklearn import svm\n",
    "from sklearn.model_selection import train_test_split"
   ]
  },
  {
   "cell_type": "code",
   "execution_count": 3,
   "metadata": {
    "collapsed": true
   },
   "outputs": [],
   "source": [
    "#args = sys.argv\n",
    "#PATH = args[1]\n",
    "\n",
    "# jupyter notebookのときはここで指定\n",
    "PATH = '../State-2fe_SpmActive/20181029rn/mb/RawData/'\n",
    "\n",
    "# 検証手法\n",
    "kCV = 10\n",
    "\n",
    "# 検証手法\n",
    "col_name = str(kCV) + 'CV'"
   ]
  },
  {
   "cell_type": "markdown",
   "metadata": {},
   "source": [
    "## SVM_kCV関数\n",
    "引く数としてデータをX，ラベルをyで受け取る．  \n",
    "交差検証法の一つk分割交差検証法で識別精度評価を行う．  "
   ]
  },
  {
   "cell_type": "code",
   "execution_count": 4,
   "metadata": {
    "collapsed": true
   },
   "outputs": [],
   "source": [
    "def SVM_kCV(X, y):\n",
    "    \n",
    "    # 線形SVMのインスタンスを生成\n",
    "    model = svm.SVC(kernel = 'linear', C = 1)\n",
    "    \n",
    "    # k分割し，1グループをテストデータ，残りグループを教師データにして評価\n",
    "    # すべてのグループに対して行う\n",
    "    # 評価結果（識別率）を格納\n",
    "    CVscore = cross_validation.cross_val_score(model, X, y, cv = kCV)\n",
    "    \n",
    "    # 評価結果（識別率）の平均を求める\n",
    "    result = CVscore.mean()\n",
    "    \n",
    "    # パーセントに直す\n",
    "    result = round(result * 100, 1)\n",
    "\n",
    "    print('k = ' + str(kCV) + '：' + str(CVscore))\n",
    "    \n",
    "    return result\n",
    "    "
   ]
  },
  {
   "cell_type": "markdown",
   "metadata": {},
   "source": [
    "# main関数"
   ]
  },
  {
   "cell_type": "code",
   "execution_count": 36,
   "metadata": {
    "collapsed": true
   },
   "outputs": [],
   "source": [
    "if __name__ == '__main__':\n",
    "    \n",
    "    # 読み込みたいファイルのパス\n",
    "    PATH_rest = PATH + 'raw_rest.csv'\n",
    "    PATH_tapping = PATH + 'raw_tapping.csv'\n",
    "    \n",
    "    # csvファイル読み込み\n",
    "    # headerは設定せず，転置後にset_index()する（header = 0にすると列名が変えられる）\n",
    "    rest = pd.read_csv(PATH_rest, header = 0, index_col = None).T\n",
    "    \n",
    "    tapping = pd.read_csv(PATH_tapping, header = 0, index_col = None).T"
   ]
  },
  {
   "cell_type": "code",
   "execution_count": 40,
   "metadata": {},
   "outputs": [
    {
     "name": "stdout",
     "output_type": "stream",
     "text": [
      "Voxel1( 1 / 7 )\n",
      "k = 10：[ 0.55        0.5         0.4         0.48333333  0.5         0.48333333\n",
      "  0.44827586  0.55172414  0.48275862  0.67241379]\n",
      "50.7\n",
      "Voxel2( 2 / 7 )\n",
      "k = 10：[ 0.53333333  0.46666667  0.46666667  0.55        0.46666667  0.48333333\n",
      "  0.60344828  0.62068966  0.51724138  0.62068966]\n",
      "53.3\n",
      "Voxel3( 3 / 7 )\n",
      "k = 10：[ 0.53333333  0.5         0.63333333  0.33333333  0.5         0.53333333\n",
      "  0.39655172  0.34482759  0.43103448  0.60344828]\n",
      "48.1\n",
      "Voxel4( 4 / 7 )\n",
      "k = 10：[ 0.53333333  0.58333333  0.35        0.25        0.33333333  0.41666667\n",
      "  0.43103448  0.48275862  0.46551724  0.51724138]\n",
      "43.6\n",
      "Voxel5( 5 / 7 )\n",
      "k = 10：[ 0.58333333  0.51666667  0.53333333  0.46666667  0.51666667  0.53333333\n",
      "  0.44827586  0.36206897  0.34482759  0.46551724]\n",
      "47.7\n",
      "Voxel6( 6 / 7 )\n",
      "k = 10：[ 0.48333333  0.5         0.55        0.38333333  0.46666667  0.51666667\n",
      "  0.37931034  0.36206897  0.32758621  0.37931034]\n",
      "43.5\n",
      "Voxel7( 7 / 7 )\n",
      "k = 10：[ 0.41666667  0.56666667  0.56666667  0.43333333  0.56666667  0.51666667\n",
      "  0.37931034  0.55172414  0.39655172  0.39655172]\n",
      "47.9\n"
     ]
    }
   ],
   "source": [
    "    # ボクセルの数\n",
    "    voxNum = len(rest)\n",
    "\n",
    "    # 全ボクセルの識別率を格納するデータフレーム\n",
    "    voxAc = pd.DataFrame(index = range(voxNum), columns = [col_name])\n",
    "    \n",
    "    counter = 0\n",
    "    csvcounter = 0\n",
    "    voxNames = []\n",
    "\n",
    "    for voxNo in range(voxNum):\n",
    "\n",
    "        voxName = 'Voxel' + str(voxNo + 1)\n",
    "        print(voxName + '( ' + str(counter+1) + ' / ' + str(voxNum) + ' )')\n",
    "\n",
    "        # ボクセルのデータを取得\n",
    "        restVox = rest.loc[voxName]\n",
    "        tappingVox = tapping.loc[voxName]\n",
    "\n",
    "        # データセット作成\n",
    "        restVox_vec = np.ravel(restVox)\n",
    "        tappingVox_vec = np.ravel(tappingVox)\n",
    "\n",
    "        data = np.r_[restVox_vec, tappingVox_vec]\n",
    "\n",
    "        # データ数+1にするためにリシェイプ\n",
    "        data = data.reshape(-1, 1)\n",
    "\n",
    "        # ラベルを作成\n",
    "        restVox_label = np.zeros(len(restVox_vec))\n",
    "        tappingVox_label = np.ones(len(tappingVox_vec))\n",
    "\n",
    "        labels = np.r_[restVox_label, tappingVox_label]\n",
    "        \n",
    "        # 学習と評価\n",
    "        result_vox = SVM_kCV(data, labels)\n",
    "        print(result_vox)\n",
    "        \n",
    "        # データフレームに格納\n",
    "        voxAc.at[voxNo, :] = result_vox\n",
    "        \n",
    "        # 途中経過見る用\n",
    "        # 何ボクセルで一度出力するか\n",
    "        midNum = 1000\n",
    "\n",
    "        if (counter % midNum == 0) and (counter != 0):\n",
    "\n",
    "            PATH_test = PATH + 'ACMID' + str(csvcounter) + '[' + str(kCV) + 'cv]_VOXunivariate' + '_SVM.csv'\n",
    "            print(PATH_test)\n",
    "            MidVoxAc = voxAc.iloc[(csvcounter * midNum):((csvcounter + 1) * midNum), :]\n",
    "            MidVoxAc.index = voxNames[(csvcounter * midNum):((csvcounter + 1) * midNum)]\n",
    "            MidVoxAc.to_csv(PATH_test, index = True)\n",
    "\n",
    "            csvcounter = csvcounter + 1\n",
    "        \n",
    "        counter = counter + 1\n",
    "        voxNames = voxNames + [voxName]\n",
    "        \n"
   ]
  },
  {
   "cell_type": "code",
   "execution_count": 41,
   "metadata": {
    "collapsed": true
   },
   "outputs": [],
   "source": [
    "    # 行名つける\n",
    "    voxAc.index = voxNames\n",
    "\n",
    "    # csv書き出し\n",
    "    PATH_RESULT = PATH + 'ACCURACY[' + str(kCV) + 'CV]_VOXunivariate' + '_SVM.csv'\n",
    "    voxAc.to_csv(PATH_RESULT, index = True)"
   ]
  },
  {
   "cell_type": "code",
   "execution_count": null,
   "metadata": {
    "collapsed": true
   },
   "outputs": [],
   "source": []
  }
 ],
 "metadata": {
  "kernelspec": {
   "display_name": "Python 3",
   "language": "python",
   "name": "python3"
  },
  "language_info": {
   "codemirror_mode": {
    "name": "ipython",
    "version": 3
   },
   "file_extension": ".py",
   "mimetype": "text/x-python",
   "name": "python",
   "nbconvert_exporter": "python",
   "pygments_lexer": "ipython3",
   "version": "3.6.1"
  }
 },
 "nbformat": 4,
 "nbformat_minor": 2
}
